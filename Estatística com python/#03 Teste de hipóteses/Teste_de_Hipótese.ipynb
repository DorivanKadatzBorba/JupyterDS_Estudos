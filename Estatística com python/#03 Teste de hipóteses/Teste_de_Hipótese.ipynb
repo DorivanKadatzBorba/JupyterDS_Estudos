{
 "cells": [
  {
   "cell_type": "markdown",
   "source": [
    "# <font color=green size=10>CURSO DE ESTATÍSTICA - PARTE 3</font>\n",
    "\n",
    "***\n",
    "\n",
    "## Trabalho sobre testes de hipóteses\n",
    "\n",
    "Utilizando os conhecimentos adquiridos em nosso treinamento realize o teste de hipóteses proposto abaixo.\n",
    "\n",
    "Siga o roteiro proposto e vá completando as células vazias. Procure pensar em mais testes interessantes que podem ser realizados com o nosso dataset."
   ],
   "metadata": {
    "colab_type": "text",
    "id": "WvMflodMjQKe"
   }
  },
  {
   "cell_type": "markdown",
   "source": [
    "# <font color=green>DATASET DO PROJETO</font>\n",
    "***"
   ],
   "metadata": {
    "colab_type": "text",
    "id": "cVgsZ_E3jQKg"
   }
  },
  {
   "cell_type": "markdown",
   "source": [
    "### Pesquisa Nacional por Amostra de Domicílios - 2015\n",
    "\n",
    "A <b>Pesquisa Nacional por Amostra de Domicílios - PNAD</b> investiga anualmente, de forma permanente, características gerais da população, de educação, trabalho, rendimento e habitação e outras, com periodicidade variável, de acordo com as necessidades de informação para o país, como as características sobre migração, fecundidade, nupcialidade, saúde, segurança alimentar, entre outros temas. O levantamento dessas estatísticas constitui, ao longo dos 49 anos de realização da pesquisa, um importante instrumento para formulação, validação e avaliação de políticas orientadas para o desenvolvimento socioeconômico e a melhoria das condições de vida no Brasil."
   ],
   "metadata": {
    "colab_type": "text",
    "id": "iN1gIbaKjQKh"
   }
  },
  {
   "cell_type": "markdown",
   "source": [
    "### Fonte dos Dados\n",
    "\n",
    "https://ww2.ibge.gov.br/home/estatistica/populacao/trabalhoerendimento/pnad2015/microdados.shtm"
   ],
   "metadata": {
    "colab_type": "text",
    "id": "U6V7br1RjQKi"
   }
  },
  {
   "cell_type": "markdown",
   "source": [
    "### Variáveis utilizadas\n",
    "\n",
    "> ### Renda\n",
    "> ***\n",
    "\n",
    "Rendimento mensal do trabalho principal para pessoas de 10 anos ou mais de idade.\n",
    "\n",
    "> ### Idade\n",
    "> ***\n",
    "\n",
    "Idade do morador na data de referência em anos.\n",
    "\n",
    "> ### Altura (elaboração própria)\n",
    "> ***\n",
    "\n",
    "Altura do morador em metros.\n",
    "\n",
    "> ### UF\n",
    "> ***\n",
    "\n",
    "|Código|Descrição|\n",
    "|---|---|\n",
    "|11|Rondônia|\n",
    "|12|Acre|\n",
    "|13|Amazonas|\n",
    "|14|Roraima|\n",
    "|15|Pará|\n",
    "|16|Amapá|\n",
    "|17|Tocantins|\n",
    "|21|Maranhão|\n",
    "|22|Piauí|\n",
    "|23|Ceará|\n",
    "|24|Rio Grande do Norte|\n",
    "|25|Paraíba|\n",
    "|26|Pernambuco|\n",
    "|27|Alagoas|\n",
    "|28|Sergipe|\n",
    "|29|Bahia|\n",
    "|31|Minas Gerais|\n",
    "|32|Espírito Santo|\n",
    "|33|Rio de Janeiro|\n",
    "|35|São Paulo|\n",
    "|41|Paraná|\n",
    "|42|Santa Catarina|\n",
    "|43|Rio Grande do Sul|\n",
    "|50|Mato Grosso do Sul|\n",
    "|51|Mato Grosso|\n",
    "|52|Goiás|\n",
    "|53|Distrito Federal|\n",
    "\n",
    "> ### Sexo\t\n",
    "> ***\n",
    "\n",
    "|Código|Descrição|\n",
    "|---|---|\n",
    "|0|Masculino|\n",
    "|1|Feminino|\n",
    "\n",
    "> ### Anos de Estudo\n",
    "> ***\n",
    "\n",
    "|Código|Descrição|\n",
    "|---|---|\n",
    "|1|Sem instrução e menos de 1 ano|\n",
    "|2|1 ano|\n",
    "|3|2 anos|\n",
    "|4|3 anos|\n",
    "|5|4 anos|\n",
    "|6|5 anos|\n",
    "|7|6 anos|\n",
    "|8|7 anos|\n",
    "|9|8 anos|\n",
    "|10|9 anos|\n",
    "|11|10 anos|\n",
    "|12|11 anos|\n",
    "|13|12 anos|\n",
    "|14|13 anos|\n",
    "|15|14 anos|\n",
    "|16|15 anos ou mais|\n",
    "|17|Não determinados| \n",
    "||Não aplicável|\n",
    "\n",
    "> ### Cor\n",
    "> ***\n",
    "\n",
    "|Código|Descrição|\n",
    "|---|---|\n",
    "|0|Indígena|\n",
    "|2|Branca|\n",
    "|4|Preta|\n",
    "|6|Amarela|\n",
    "|8|Parda|\n",
    "|9|Sem declaração|"
   ],
   "metadata": {
    "colab_type": "text",
    "id": "r0Fe_qnzjQKj"
   }
  },
  {
   "cell_type": "markdown",
   "source": [
    "#### <font color='red'>Observação</font>\n",
    "***\n",
    "> Os seguintes tratamentos foram realizados nos dados originais:\n",
    "> 1. Foram eliminados os registros onde a <b>Renda</b> era inválida (999 999 999 999);\n",
    "> 2. Foram eliminados os registros onde a <b>Renda</b> era missing;\n",
    "> 3. Foram considerados somente os registros das <b>Pessoas de Referência</b> de cada domicílio (responsável pelo domicílio)."
   ],
   "metadata": {
    "colab_type": "text",
    "id": "OK1IQH5cX7Gb"
   }
  },
  {
   "cell_type": "markdown",
   "source": [
    "***\n",
    "***"
   ],
   "metadata": {
    "colab_type": "text",
    "id": "ZIqLOffNTg1Y"
   }
  },
  {
   "cell_type": "markdown",
   "source": [
    "### Utilize a célula abaixo para importar as biblioteca que precisar para executar as tarefas\n",
    "#### <font color='red'>Sugestões: pandas, numpy, scipy, statsmodels</font>"
   ],
   "metadata": {
    "colab_type": "text",
    "id": "8Rw70V6ojQKk"
   }
  },
  {
   "cell_type": "code",
   "execution_count": 24,
   "source": [
    "import pandas as pd\r\n",
    "from scipy.stats import norm\r\n",
    "import numpy as np"
   ],
   "outputs": [],
   "metadata": {
    "colab": {},
    "colab_type": "code",
    "id": "fcTgimHBybMz"
   }
  },
  {
   "cell_type": "markdown",
   "source": [
    "### Importe o dataset e armazene o conteúdo em uma DataFrame"
   ],
   "metadata": {
    "colab_type": "text",
    "id": "2a-gvBvCULwt"
   }
  },
  {
   "cell_type": "code",
   "execution_count": 25,
   "source": [
    "dados = pd.read_csv('dados.csv')"
   ],
   "outputs": [],
   "metadata": {
    "colab": {},
    "colab_type": "code",
    "id": "ufRZ7TLwjQKo"
   }
  },
  {
   "cell_type": "markdown",
   "source": [
    "### Visualize o conteúdo do DataFrame"
   ],
   "metadata": {
    "colab_type": "text",
    "id": "Oq3CKHCmTg1j"
   }
  },
  {
   "cell_type": "code",
   "execution_count": 26,
   "source": [
    "dados.head()"
   ],
   "outputs": [
    {
     "output_type": "execute_result",
     "data": {
      "text/html": [
       "<div>\n",
       "<style scoped>\n",
       "    .dataframe tbody tr th:only-of-type {\n",
       "        vertical-align: middle;\n",
       "    }\n",
       "\n",
       "    .dataframe tbody tr th {\n",
       "        vertical-align: top;\n",
       "    }\n",
       "\n",
       "    .dataframe thead th {\n",
       "        text-align: right;\n",
       "    }\n",
       "</style>\n",
       "<table border=\"1\" class=\"dataframe\">\n",
       "  <thead>\n",
       "    <tr style=\"text-align: right;\">\n",
       "      <th></th>\n",
       "      <th>UF</th>\n",
       "      <th>Sexo</th>\n",
       "      <th>Idade</th>\n",
       "      <th>Cor</th>\n",
       "      <th>Anos de Estudo</th>\n",
       "      <th>Renda</th>\n",
       "      <th>Altura</th>\n",
       "    </tr>\n",
       "  </thead>\n",
       "  <tbody>\n",
       "    <tr>\n",
       "      <th>0</th>\n",
       "      <td>11</td>\n",
       "      <td>0</td>\n",
       "      <td>23</td>\n",
       "      <td>8</td>\n",
       "      <td>12</td>\n",
       "      <td>800</td>\n",
       "      <td>1.603808</td>\n",
       "    </tr>\n",
       "    <tr>\n",
       "      <th>1</th>\n",
       "      <td>11</td>\n",
       "      <td>1</td>\n",
       "      <td>23</td>\n",
       "      <td>2</td>\n",
       "      <td>12</td>\n",
       "      <td>1150</td>\n",
       "      <td>1.739790</td>\n",
       "    </tr>\n",
       "    <tr>\n",
       "      <th>2</th>\n",
       "      <td>11</td>\n",
       "      <td>1</td>\n",
       "      <td>35</td>\n",
       "      <td>8</td>\n",
       "      <td>15</td>\n",
       "      <td>880</td>\n",
       "      <td>1.760444</td>\n",
       "    </tr>\n",
       "    <tr>\n",
       "      <th>3</th>\n",
       "      <td>11</td>\n",
       "      <td>0</td>\n",
       "      <td>46</td>\n",
       "      <td>2</td>\n",
       "      <td>6</td>\n",
       "      <td>3500</td>\n",
       "      <td>1.783158</td>\n",
       "    </tr>\n",
       "    <tr>\n",
       "      <th>4</th>\n",
       "      <td>11</td>\n",
       "      <td>1</td>\n",
       "      <td>47</td>\n",
       "      <td>8</td>\n",
       "      <td>9</td>\n",
       "      <td>150</td>\n",
       "      <td>1.690631</td>\n",
       "    </tr>\n",
       "  </tbody>\n",
       "</table>\n",
       "</div>"
      ],
      "text/plain": [
       "   UF  Sexo  Idade  Cor  Anos de Estudo  Renda    Altura\n",
       "0  11     0     23    8              12    800  1.603808\n",
       "1  11     1     23    2              12   1150  1.739790\n",
       "2  11     1     35    8              15    880  1.760444\n",
       "3  11     0     46    2               6   3500  1.783158\n",
       "4  11     1     47    8               9    150  1.690631"
      ]
     },
     "metadata": {},
     "execution_count": 26
    }
   ],
   "metadata": {
    "colab": {},
    "colab_type": "code",
    "id": "GsC_WhLFjQKq",
    "scrolled": true
   }
  },
  {
   "cell_type": "markdown",
   "source": [
    "## <font color='red'>Problema</font>"
   ],
   "metadata": {
    "colab_type": "text",
    "id": "lmAJLIu8pslb"
   }
  },
  {
   "cell_type": "markdown",
   "source": [
    "Você é um pesquisador que estuda o mercado de trabalho brasileiro e resolve estudar as diferenças salariais dos trabalhadores dos estados do Rio de Janeiro e de São Paulo. Durante sua pesquisa você verifica que, aparentemente, os rendimentos dos trabalhadores no estado do Rio de Janeiro são mais baixos que os rendimentos dos trabalhadores no estado de São Paulo. Para confirmar esta conclusão realize um teste de hipótese de comparação de médias em cima de duas amostras de trabalhadores dos dois estados. Siga as seguintes etapas:\n",
    "\n",
    "- Selecione duas amostras de **500 trabalhadores** para cada um dos dois estados (variável UF) para realizar o teste. Utilize o **parâmetro random_state=101**.\n",
    "- Considere o **nível de significância de 5%**.\n",
    "- Teste a hipótese de que a **renda média dos trabalhadores do Rio de Janeiro é menor que a renda média dos trabalhadores de São Paulo**."
   ],
   "metadata": {
    "colab_type": "text",
    "id": "0zUUY8klpslc"
   }
  },
  {
   "cell_type": "markdown",
   "source": [
    "---"
   ],
   "metadata": {
    "colab_type": "text",
    "id": "WUknTBZgpslc"
   }
  },
  {
   "cell_type": "markdown",
   "source": [
    "### Seleção das amostras"
   ],
   "metadata": {
    "colab_type": "text",
    "id": "xzGuwM4xpslc"
   }
  },
  {
   "cell_type": "code",
   "execution_count": 27,
   "source": [
    "trabalhadores_RJ = dados.query('UF == 33').sample(n = 500, random_state = 101).Renda"
   ],
   "outputs": [],
   "metadata": {
    "colab": {},
    "colab_type": "code",
    "id": "nuNSrzfYpsld",
    "scrolled": true
   }
  },
  {
   "cell_type": "code",
   "execution_count": 28,
   "source": [
    "trabalhadores_SP = dados.query('UF == 35').sample(n = 500, random_state = 101).Renda"
   ],
   "outputs": [],
   "metadata": {
    "colab": {},
    "colab_type": "code",
    "id": "W-W9IOs1psle",
    "scrolled": true
   }
  },
  {
   "cell_type": "markdown",
   "source": [
    "### Dados do problema\n",
    "Obter média e desvio-padrão para as duas amostras"
   ],
   "metadata": {
    "colab_type": "text",
    "id": "FOFa-cHwpslg"
   }
  },
  {
   "cell_type": "code",
   "execution_count": 29,
   "source": [
    "media_trabalhadores_RJ = trabalhadores_RJ.mean()\r\n",
    "media_trabalhadores_RJ"
   ],
   "outputs": [
    {
     "output_type": "execute_result",
     "data": {
      "text/plain": [
       "2240.518"
      ]
     },
     "metadata": {},
     "execution_count": 29
    }
   ],
   "metadata": {
    "colab": {},
    "colab_type": "code",
    "id": "BGyXCbompslh"
   }
  },
  {
   "cell_type": "code",
   "execution_count": 30,
   "source": [
    "media_trabalhadores_SP = trabalhadores_SP.mean()\r\n",
    "media_trabalhadores_SP"
   ],
   "outputs": [
    {
     "output_type": "execute_result",
     "data": {
      "text/plain": [
       "2839.352"
      ]
     },
     "metadata": {},
     "execution_count": 30
    }
   ],
   "metadata": {
    "colab": {},
    "colab_type": "code",
    "id": "RoxFOCA3pslk"
   }
  },
  {
   "cell_type": "code",
   "execution_count": 31,
   "source": [
    "desvio_padrao_trabalhadores_RJ = trabalhadores_RJ.std()\r\n",
    "desvio_padrao_trabalhadores_RJ"
   ],
   "outputs": [
    {
     "output_type": "execute_result",
     "data": {
      "text/plain": [
       "4643.836161867941"
      ]
     },
     "metadata": {},
     "execution_count": 31
    }
   ],
   "metadata": {
    "colab": {},
    "colab_type": "code",
    "id": "Of8L6Hygpsll"
   }
  },
  {
   "cell_type": "code",
   "execution_count": 32,
   "source": [
    "desvio_padrao_trabalhadores_SP = trabalhadores_SP.std()\r\n",
    "desvio_padrao_trabalhadores_SP"
   ],
   "outputs": [
    {
     "output_type": "execute_result",
     "data": {
      "text/plain": [
       "3699.384225434127"
      ]
     },
     "metadata": {},
     "execution_count": 32
    }
   ],
   "metadata": {
    "colab": {},
    "colab_type": "code",
    "id": "-cSpXXTepsln"
   }
  },
  {
   "cell_type": "code",
   "execution_count": 33,
   "source": [
    "significancia = 0.05\r\n",
    "confianca = 1 - significancia\r\n",
    "n_RJ = 500\r\n",
    "n_SP = 500\r\n",
    "D_0 = 0"
   ],
   "outputs": [],
   "metadata": {
    "colab": {},
    "colab_type": "code",
    "id": "Cl7kdxkUpslo"
   }
  },
  {
   "cell_type": "markdown",
   "source": [
    "## Lembre-se..."
   ],
   "metadata": {
    "colab_type": "text",
    "id": "Kyp6CNssrAmw"
   }
  },
  {
   "cell_type": "markdown",
   "source": [
    "<img src='https://caelum-online-public.s3.amazonaws.com/1229-estatistica-parte3/01/img014.png' width=90%>"
   ],
   "metadata": {
    "colab_type": "text",
    "id": "xGGMFhzwrAmx"
   }
  },
  {
   "cell_type": "markdown",
   "source": [
    "---"
   ],
   "metadata": {
    "colab_type": "text",
    "id": "PGoWwWwjpslp"
   }
  },
  {
   "cell_type": "markdown",
   "source": [
    "### **Passo 1** - formulação das hipóteses $H_0$ e $H_1$\n",
    "\n",
    "#### <font color='red'>Lembre-se, a hipótese nula sempre contém a alegação de igualdade</font>"
   ],
   "metadata": {
    "colab_type": "text",
    "id": "tO597Oxgpslp"
   }
  },
  {
   "cell_type": "markdown",
   "source": [
    "### $\\mu_1 \\Rightarrow$ Média das rendas dos chefes de domicílios do sexo masculino\r\n",
    "### $\\mu_2 \\Rightarrow$ Média das rendas dos chefes de domicílios do sexo feminino\r\n",
    "\r\n",
    "### $\\begin{cases}H_0: \\mu_1 \\leq \\mu_2\\\\H_1: \\mu_1 > \\mu_2\\end{cases}$\r\n",
    "\r\n",
    "### ou\r\n",
    "\r\n",
    "### $\\begin{cases}H_0: \\mu_1 -\\mu_2 \\leq 0\\\\H_1: \\mu_1 -\\mu_2 > 0\\end{cases}$"
   ],
   "metadata": {
    "colab_type": "text",
    "id": "LysVU-7fpslr"
   }
  },
  {
   "cell_type": "markdown",
   "source": [
    "---"
   ],
   "metadata": {
    "colab_type": "text",
    "id": "ENKqbCgQpslr"
   }
  },
  {
   "cell_type": "markdown",
   "source": [
    "### **Passo 2** - escolha da distribuição amostral adequada"
   ],
   "metadata": {
    "colab_type": "text",
    "id": "dBA05Y3Zpslr"
   }
  },
  {
   "cell_type": "markdown",
   "source": [
    "### O tamanho da amostra é maior que 30?\r\n",
    "#### Resp.: Sim\r\n",
    "\r\n",
    "### Podemos afirmar que a população se distribui aproximadamente como uma normal?\r\n",
    "#### Resp.: Não\r\n",
    "\r\n",
    "### O desvio padrão populacional é conhecido?\r\n",
    "#### Resp.: Não"
   ],
   "metadata": {
    "colab_type": "text",
    "id": "6_Q_Wtjlpsls"
   }
  },
  {
   "cell_type": "markdown",
   "source": [
    "---"
   ],
   "metadata": {
    "colab_type": "text",
    "id": "T6sVzVjVpsls"
   }
  },
  {
   "cell_type": "markdown",
   "source": [
    "### **Passo 3** - fixação da significância do teste ($\\alpha$)"
   ],
   "metadata": {
    "colab_type": "text",
    "id": "SUN4yJqzpsls"
   }
  },
  {
   "cell_type": "code",
   "execution_count": 34,
   "source": [
    "probabilidade = significancia\r\n",
    "probabilidade"
   ],
   "outputs": [
    {
     "output_type": "execute_result",
     "data": {
      "text/plain": [
       "0.05"
      ]
     },
     "metadata": {},
     "execution_count": 34
    }
   ],
   "metadata": {
    "colab": {},
    "colab_type": "code",
    "id": "b3Y_CZmzpsls"
   }
  },
  {
   "cell_type": "code",
   "execution_count": 35,
   "source": [
    "z_alpha = norm.ppf(probabilidade)\r\n",
    "z_alpha.round(2)"
   ],
   "outputs": [
    {
     "output_type": "execute_result",
     "data": {
      "text/plain": [
       "-1.64"
      ]
     },
     "metadata": {},
     "execution_count": 35
    }
   ],
   "metadata": {
    "colab": {},
    "colab_type": "code",
    "id": "qNse2bFRpslu"
   }
  },
  {
   "cell_type": "markdown",
   "source": [
    "---"
   ],
   "metadata": {
    "colab_type": "text",
    "id": "xUhiEXRMpslv"
   }
  },
  {
   "cell_type": "markdown",
   "source": [
    "### **Passo 4** - cálculo da estatística-teste e verificação desse valor com as áreas de aceitação e rejeição do teste"
   ],
   "metadata": {
    "colab_type": "text",
    "id": "iooB1aPHpslv"
   }
  },
  {
   "cell_type": "code",
   "execution_count": 36,
   "source": [
    "numerador = (media_trabalhadores_RJ - media_trabalhadores_SP) - D_0\r\n",
    "denominador = np.sqrt((desvio_padrao_trabalhadores_RJ ** 2 / n_RJ) + (desvio_padrao_trabalhadores_SP ** 2 / n_SP))\r\n",
    "z = numerador / denominador\r\n",
    "z"
   ],
   "outputs": [
    {
     "output_type": "execute_result",
     "data": {
      "text/plain": [
       "-2.255318273608561"
      ]
     },
     "metadata": {},
     "execution_count": 36
    }
   ],
   "metadata": {
    "colab": {},
    "colab_type": "code",
    "id": "AL2i9JOTpslw"
   }
  },
  {
   "cell_type": "markdown",
   "source": [
    "---"
   ],
   "metadata": {
    "colab_type": "text",
    "id": "4dn58Fc2pslx"
   }
  },
  {
   "cell_type": "markdown",
   "source": [
    "### **Passo 5** - Aceitação ou rejeição da hipótese nula"
   ],
   "metadata": {
    "colab_type": "text",
    "id": "P-7NL33-pslx"
   }
  },
  {
   "cell_type": "markdown",
   "source": [
    "### <font color='red'>Critério do valor crítico</font>"
   ],
   "metadata": {
    "colab_type": "text",
    "id": "QrObW-BXpsly"
   }
  },
  {
   "cell_type": "code",
   "execution_count": 37,
   "source": [
    "z <= z_alpha"
   ],
   "outputs": [
    {
     "output_type": "execute_result",
     "data": {
      "text/plain": [
       "True"
      ]
     },
     "metadata": {},
     "execution_count": 37
    }
   ],
   "metadata": {
    "colab": {},
    "colab_type": "code",
    "id": "tkJSji7gpsly"
   }
  },
  {
   "cell_type": "markdown",
   "source": [
    "### <font color='red'>Critério do valor $p$</font>"
   ],
   "metadata": {
    "colab_type": "text",
    "id": "cyuNEHfwpsl0"
   }
  },
  {
   "cell_type": "markdown",
   "source": [
    "### Utilize DescrStatsW"
   ],
   "metadata": {
    "colab_type": "text",
    "id": "UtWm-GiFPkyX"
   }
  },
  {
   "cell_type": "code",
   "execution_count": 38,
   "source": [
    "from statsmodels.stats.weightstats import DescrStatsW"
   ],
   "outputs": [],
   "metadata": {
    "colab": {},
    "colab_type": "code",
    "id": "uW0uVFnFpsl1"
   }
  },
  {
   "cell_type": "code",
   "execution_count": 39,
   "source": [
    "test_RJ = DescrStatsW(trabalhadores_RJ)\r\n",
    "test_SP = DescrStatsW(trabalhadores_SP)"
   ],
   "outputs": [],
   "metadata": {
    "colab": {},
    "colab_type": "code",
    "id": "kP92TQqupsl1"
   }
  },
  {
   "cell_type": "code",
   "execution_count": 40,
   "source": [
    "test_A = test_RJ.get_compare(test_SP)"
   ],
   "outputs": [],
   "metadata": {
    "colab": {},
    "colab_type": "code",
    "id": "diOjg4G8psl2"
   }
  },
  {
   "cell_type": "code",
   "execution_count": 46,
   "source": [
    "z, p_valor = test_A.ztest_ind(alternative='smaller', value=0)\r\n",
    "print('p_valor =', p_valor)\r\n",
    "print('z =', z)"
   ],
   "outputs": [
    {
     "output_type": "stream",
     "name": "stdout",
     "text": [
      "p_valor = 0.012056679215693415\n",
      "z = -2.2553182736085575\n"
     ]
    }
   ],
   "metadata": {
    "colab": {},
    "colab_type": "code",
    "id": "tweh7q_spsl5"
   }
  },
  {
   "cell_type": "markdown",
   "source": [
    "### Utilize CompareMeans"
   ],
   "metadata": {
    "colab_type": "text",
    "id": "Syf0s5X2Pkye"
   }
  },
  {
   "cell_type": "code",
   "execution_count": 42,
   "source": [
    "from statsmodels.stats.weightstats import CompareMeans"
   ],
   "outputs": [],
   "metadata": {
    "colab": {},
    "colab_type": "code",
    "id": "qRkrt2XZhL9v"
   }
  },
  {
   "cell_type": "code",
   "execution_count": 43,
   "source": [
    "test_B = CompareMeans(test_RJ, test_SP)"
   ],
   "outputs": [],
   "metadata": {
    "colab": {},
    "colab_type": "code",
    "id": "tSbOZem9hLvs"
   }
  },
  {
   "cell_type": "code",
   "execution_count": 48,
   "source": [
    "z, p_valor = test_B.ztest_ind(alternative='smaller', value=0)\r\n",
    "print('p_valor =', p_valor)\r\n",
    "print('z =', z)"
   ],
   "outputs": [
    {
     "output_type": "stream",
     "name": "stdout",
     "text": [
      "p_valor = 0.012056679215693415\n",
      "z = -2.2553182736085575\n"
     ]
    }
   ],
   "metadata": {
    "colab": {},
    "colab_type": "code",
    "id": "E3NF1BzYpsl6"
   }
  },
  {
   "cell_type": "code",
   "execution_count": 49,
   "source": [
    "p_valor <= significancia"
   ],
   "outputs": [
    {
     "output_type": "execute_result",
     "data": {
      "text/plain": [
       "True"
      ]
     },
     "metadata": {},
     "execution_count": 49
    }
   ],
   "metadata": {}
  },
  {
   "cell_type": "markdown",
   "source": [
    "### <font color='green'>Conclusão: (Digite sua conclusão aqui)</font>"
   ],
   "metadata": {
    "colab_type": "text",
    "id": "UnBVO1uDpslz"
   }
  },
  {
   "cell_type": "markdown",
   "source": [
    "### <font color='green'> Conclusão: Com um nível de confiança de 95% rejeitamos $H_0$, isto é, concluímos que a média das rendas dos trabalhadores do estado do Rio de janeiro é menor do que a média dos trabalhadores do estado de São Paulo.</font>"
   ],
   "metadata": {
    "colab": {},
    "colab_type": "code",
    "id": "IAcPnKQArAny"
   }
  },
  {
   "cell_type": "code",
   "execution_count": null,
   "source": [],
   "outputs": [],
   "metadata": {}
  }
 ],
 "metadata": {
  "colab": {
   "name": "Teste_de_Hipótese.ipynb",
   "provenance": [],
   "toc_visible": true,
   "version": "0.3.2"
  },
  "kernelspec": {
   "name": "python3",
   "display_name": "Python 3.8.3 64-bit ('base': conda)"
  },
  "language_info": {
   "codemirror_mode": {
    "name": "ipython",
    "version": 3
   },
   "file_extension": ".py",
   "mimetype": "text/x-python",
   "name": "python",
   "nbconvert_exporter": "python",
   "pygments_lexer": "ipython3",
   "version": "3.8.3"
  },
  "interpreter": {
   "hash": "8fd80edaba9b42445982df28b1ec37ec1903e0734f38b75eeb93009464659c20"
  }
 },
 "nbformat": 4,
 "nbformat_minor": 1
}