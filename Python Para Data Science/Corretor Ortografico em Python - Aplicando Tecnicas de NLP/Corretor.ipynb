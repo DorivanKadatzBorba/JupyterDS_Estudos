{
 "cells": [
  {
   "cell_type": "markdown",
   "metadata": {},
   "source": [
    "# Carregando arquivo de dados"
   ]
  },
  {
   "cell_type": "code",
   "execution_count": 2,
   "metadata": {},
   "outputs": [],
   "source": [
    "with open('corretor-master/artigos.txt', 'r', errors = 'ignore', encoding = 'utf-8') as f:\n",
    "    artigos = f.read()"
   ]
  },
  {
   "cell_type": "code",
   "execution_count": 3,
   "metadata": {},
   "outputs": [
    {
     "name": "stdout",
     "output_type": "stream",
     "text": [
      "\n",
      "\n",
      "\n",
      "imagem \n",
      "\n",
      "Temos a seguinte classe que representa um usuário no nosso sistema:\n",
      "\n",
      "java\n",
      "\n",
      "Para salvar um novo usuário, várias validações são feitas, como por exemplo: Ver se o nome só contém letras, [**o CPF só números**] e ver se o usuário possui no mínimo 18 anos. Veja o método que faz essa validação:\n",
      "\n",
      "java \n",
      "\n",
      "Suponha agora que eu tenha outra classe, a classe `Produto`, que contém um atributo nome e eu quero fazer a mesma validação que fiz para o nome do usuário: Ver se só contém letras. E aí? Vou\n"
     ]
    }
   ],
   "source": [
    "print(artigos[:500])"
   ]
  },
  {
   "cell_type": "code",
   "execution_count": 4,
   "metadata": {},
   "outputs": [
    {
     "data": {
      "text/plain": [
       "2605046"
      ]
     },
     "execution_count": 4,
     "metadata": {},
     "output_type": "execute_result"
    }
   ],
   "source": [
    "len(artigos)"
   ]
  },
  {
   "cell_type": "code",
   "execution_count": 5,
   "metadata": {},
   "outputs": [],
   "source": [
    "texto_exemplo = \"Olá, tudo bem?\"\n",
    "tokens = texto_exemplo.split()"
   ]
  },
  {
   "cell_type": "code",
   "execution_count": 6,
   "metadata": {},
   "outputs": [
    {
     "data": {
      "text/plain": [
       "['Olá,', 'tudo', 'bem?']"
      ]
     },
     "execution_count": 6,
     "metadata": {},
     "output_type": "execute_result"
    }
   ],
   "source": [
    "tokens"
   ]
  },
  {
   "cell_type": "code",
   "execution_count": 7,
   "metadata": {},
   "outputs": [
    {
     "data": {
      "text/plain": [
       "3"
      ]
     },
     "execution_count": 7,
     "metadata": {},
     "output_type": "execute_result"
    }
   ],
   "source": [
    "len(tokens)"
   ]
  },
  {
   "cell_type": "markdown",
   "metadata": {},
   "source": [
    "# NLTK separando os tokens"
   ]
  },
  {
   "cell_type": "code",
   "execution_count": 8,
   "metadata": {},
   "outputs": [],
   "source": [
    "import nltk"
   ]
  },
  {
   "cell_type": "code",
   "execution_count": 9,
   "metadata": {},
   "outputs": [],
   "source": [
    "#nltk.download('punkt')"
   ]
  },
  {
   "cell_type": "code",
   "execution_count": 10,
   "metadata": {},
   "outputs": [],
   "source": [
    "# Separa as palavras dos caracteres\n",
    "palavras_separadas = nltk.tokenize.word_tokenize(texto_exemplo)"
   ]
  },
  {
   "cell_type": "code",
   "execution_count": 11,
   "metadata": {},
   "outputs": [
    {
     "data": {
      "text/plain": [
       "['Olá', ',', 'tudo', 'bem', '?']"
      ]
     },
     "execution_count": 11,
     "metadata": {},
     "output_type": "execute_result"
    }
   ],
   "source": [
    "palavras_separadas"
   ]
  },
  {
   "cell_type": "code",
   "execution_count": 12,
   "metadata": {},
   "outputs": [
    {
     "data": {
      "text/plain": [
       "5"
      ]
     },
     "execution_count": 12,
     "metadata": {},
     "output_type": "execute_result"
    }
   ],
   "source": [
    "len(palavras_separadas)"
   ]
  },
  {
   "cell_type": "code",
   "execution_count": 13,
   "metadata": {},
   "outputs": [
    {
     "data": {
      "text/plain": [
       "True"
      ]
     },
     "execution_count": 13,
     "metadata": {},
     "output_type": "execute_result"
    }
   ],
   "source": [
    "'palavra'.isalpha()"
   ]
  },
  {
   "cell_type": "code",
   "execution_count": 14,
   "metadata": {},
   "outputs": [],
   "source": [
    "# Percorre todos os dados do parâmetro, e atribui a uma lista apenas as palavras que são Alpha, que conteém letras\n",
    "def separa_palavras(lista_tokens):\n",
    "    lista_palavras = []\n",
    "    for token in lista_tokens:\n",
    "        if token.isalpha():\n",
    "            lista_palavras.append(token)\n",
    "    return lista_palavras"
   ]
  },
  {
   "cell_type": "code",
   "execution_count": 15,
   "metadata": {},
   "outputs": [
    {
     "data": {
      "text/plain": [
       "['Olá', 'tudo', 'bem']"
      ]
     },
     "execution_count": 15,
     "metadata": {},
     "output_type": "execute_result"
    }
   ],
   "source": [
    "# Testando a função\n",
    "separa_palavras(palavras_separadas)"
   ]
  },
  {
   "cell_type": "code",
   "execution_count": 16,
   "metadata": {},
   "outputs": [
    {
     "name": "stdout",
     "output_type": "stream",
     "text": [
      "O número de palavras é 403106\n"
     ]
    }
   ],
   "source": [
    "# Executando a função com os dados do 'artigo'\n",
    "# variável que recebe as funcões de tokenização da base 'artigos'\n",
    "lista_tokens = nltk.tokenize.word_tokenize(artigos)\n",
    "\n",
    "# Executa a função com a variável que recebeu a tokenização\n",
    "lista_palavras = separa_palavras(lista_tokens)\n",
    "\n",
    "# Exibe a quantidade de palavras encontradas apenas com letras na base 'artigos'\n",
    "print('O número de palavras é', len(lista_palavras))"
   ]
  },
  {
   "cell_type": "markdown",
   "metadata": {},
   "source": [
    "# Processo de normalização"
   ]
  },
  {
   "cell_type": "markdown",
   "metadata": {},
   "source": [
    "### Retirando palavras repetidas"
   ]
  },
  {
   "cell_type": "code",
   "execution_count": 17,
   "metadata": {},
   "outputs": [],
   "source": [
    "# função que recebe a 'lista_palavras', trasnforma a palavra para que fique toda minúscula \n",
    "def normalizacao(lista_palavras):\n",
    "    lista_normalizada = []\n",
    "    for palavra in lista_palavras:\n",
    "        lista_normalizada.append(palavra.lower())\n",
    "    return lista_normalizada"
   ]
  },
  {
   "cell_type": "code",
   "execution_count": 18,
   "metadata": {},
   "outputs": [
    {
     "data": {
      "text/plain": [
       "['imagem',\n",
       " 'temos',\n",
       " 'a',\n",
       " 'seguinte',\n",
       " 'classe',\n",
       " 'que',\n",
       " 'representa',\n",
       " 'um',\n",
       " 'usuário',\n",
       " 'no',\n",
       " 'nosso',\n",
       " 'sistema',\n",
       " 'java',\n",
       " 'para',\n",
       " 'salvar',\n",
       " 'um',\n",
       " 'novo',\n",
       " 'usuário',\n",
       " 'várias',\n",
       " 'validações',\n",
       " 'são',\n",
       " 'feitas',\n",
       " 'como',\n",
       " 'por',\n",
       " 'exemplo',\n",
       " 'ver',\n",
       " 'se',\n",
       " 'o',\n",
       " 'nome',\n",
       " 'só',\n",
       " 'contém',\n",
       " 'letras',\n",
       " 'o',\n",
       " 'cpf',\n",
       " 'só',\n",
       " 'números',\n",
       " 'e',\n",
       " 'ver',\n",
       " 'se',\n",
       " 'o',\n",
       " 'usuário',\n",
       " 'possui',\n",
       " 'no',\n",
       " 'mínimo',\n",
       " 'anos',\n",
       " 'veja',\n",
       " 'o',\n",
       " 'método',\n",
       " 'que',\n",
       " 'faz',\n",
       " 'essa',\n",
       " 'validação',\n",
       " 'java',\n",
       " 'suponha',\n",
       " 'agora',\n",
       " 'que',\n",
       " 'eu',\n",
       " 'tenha',\n",
       " 'outra',\n",
       " 'classe',\n",
       " 'a',\n",
       " 'classe',\n",
       " 'produto',\n",
       " 'que',\n",
       " 'contém',\n",
       " 'um',\n",
       " 'atributo',\n",
       " 'nome',\n",
       " 'e',\n",
       " 'eu',\n",
       " 'quero',\n",
       " 'fazer',\n",
       " 'a',\n",
       " 'mesma',\n",
       " 'validação',\n",
       " 'que',\n",
       " 'fiz',\n",
       " 'para',\n",
       " 'o',\n",
       " 'nome',\n",
       " 'do',\n",
       " 'usuário',\n",
       " 'ver',\n",
       " 'se',\n",
       " 'só',\n",
       " 'contém',\n",
       " 'letras',\n",
       " 'e',\n",
       " 'aí',\n",
       " 'vou',\n",
       " 'criar',\n",
       " 'outro',\n",
       " 'método',\n",
       " 'para',\n",
       " 'fazer',\n",
       " 'a',\n",
       " 'mesma',\n",
       " 'validação',\n",
       " 'ou',\n",
       " 'criar',\n",
       " 'uma',\n",
       " 'interface',\n",
       " 'ou',\n",
       " 'uma',\n",
       " 'classe',\n",
       " 'que',\n",
       " 'tanto',\n",
       " 'usuario',\n",
       " 'quanto',\n",
       " 'produto',\n",
       " 'estendem',\n",
       " 'não',\n",
       " 'faz',\n",
       " 'muito',\n",
       " 'sentido',\n",
       " 'né',\n",
       " 'como',\n",
       " 'resolver',\n",
       " 'esse',\n",
       " 'caso',\n",
       " 'sem',\n",
       " 'repetir',\n",
       " 'código',\n",
       " 'anotações',\n",
       " 'no',\n",
       " 'java',\n",
       " 'um',\n",
       " 'novo',\n",
       " 'recurso',\n",
       " 'foi',\n",
       " 'introduzido',\n",
       " 'à',\n",
       " 'linguagem',\n",
       " 'as',\n",
       " 'anotações',\n",
       " 'elas',\n",
       " 'permitem',\n",
       " 'que',\n",
       " 'metadados',\n",
       " 'sejam',\n",
       " 'escritos',\n",
       " 'diretamente',\n",
       " 'no',\n",
       " 'código',\n",
       " 'metadados',\n",
       " 'são',\n",
       " 'por',\n",
       " 'definição',\n",
       " 'dados',\n",
       " 'que',\n",
       " 'fazem',\n",
       " 'referência',\n",
       " 'aos',\n",
       " 'próprios',\n",
       " 'dados',\n",
       " 'para',\n",
       " 'nos',\n",
       " 'ajudar',\n",
       " 'a',\n",
       " 'entender',\n",
       " 'o',\n",
       " 'conceito',\n",
       " 'de',\n",
       " 'metadados',\n",
       " 'vou',\n",
       " 'usar',\n",
       " 'a',\n",
       " 'definição',\n",
       " 'feita',\n",
       " 'pelo',\n",
       " 'autor',\n",
       " 'eduardo',\n",
       " 'guerra',\n",
       " 'no',\n",
       " 'livro',\n",
       " 'componentes',\n",
       " 'reutilizáveis',\n",
       " 'em',\n",
       " 'java',\n",
       " 'com',\n",
       " 'reflexão',\n",
       " 'e',\n",
       " 'anotações',\n",
       " 'contexto',\n",
       " 'da',\n",
       " 'orientação',\n",
       " 'a',\n",
       " 'objetos',\n",
       " 'os',\n",
       " 'metadados',\n",
       " 'são',\n",
       " 'informações',\n",
       " 'sobre',\n",
       " 'do',\n",
       " 'código',\n",
       " 'essas',\n",
       " 'informações',\n",
       " 'podem',\n",
       " 'ser',\n",
       " 'definidas',\n",
       " 'em',\n",
       " 'qualquer',\n",
       " 'meio',\n",
       " 'que',\n",
       " 'o',\n",
       " 'software',\n",
       " 'ou',\n",
       " 'componente',\n",
       " 'as',\n",
       " 'recupere',\n",
       " 'e',\n",
       " 'as',\n",
       " 'utilize',\n",
       " 'para',\n",
       " 'agregar',\n",
       " 'nos',\n",
       " 'elementos',\n",
       " 'do',\n",
       " 'código',\n",
       " 'perceba',\n",
       " 'que',\n",
       " 'por',\n",
       " 'si',\n",
       " 'só',\n",
       " 'anotações',\n",
       " 'não',\n",
       " 'fazem',\n",
       " 'nada',\n",
       " 'elas',\n",
       " 'precisam',\n",
       " 'que',\n",
       " 'a',\n",
       " 'aplicação',\n",
       " 'as',\n",
       " 'recupere',\n",
       " 'e',\n",
       " 'as',\n",
       " 'utilize',\n",
       " 'para',\n",
       " 'que',\n",
       " 'só',\n",
       " 'assim',\n",
       " 'elas',\n",
       " 'consigam',\n",
       " 'nos',\n",
       " 'fornecer',\n",
       " 'algo',\n",
       " 'que',\n",
       " 'possamos',\n",
       " 'usar',\n",
       " 'para',\n",
       " 'realizar',\n",
       " 'alguma',\n",
       " 'tarefa',\n",
       " 'voltando',\n",
       " 'ao',\n",
       " 'nosso',\n",
       " 'problema',\n",
       " 'vamos',\n",
       " 'criar',\n",
       " 'uma',\n",
       " 'anotação',\n",
       " 'para',\n",
       " 'validar',\n",
       " 'a',\n",
       " 'idade',\n",
       " 'mínina',\n",
       " 'do',\n",
       " 'usuário',\n",
       " 'para',\n",
       " 'isso',\n",
       " 'vamos',\n",
       " 'anotar',\n",
       " 'nossa',\n",
       " 'classe',\n",
       " 'java',\n",
       " 'se',\n",
       " 'olharmos',\n",
       " 'nosso',\n",
       " 'código',\n",
       " 'perceberemos',\n",
       " 'que',\n",
       " 'ele',\n",
       " 'não',\n",
       " 'compila',\n",
       " 'pois',\n",
       " 'falta',\n",
       " 'implementarmos',\n",
       " 'a',\n",
       " 'anotação',\n",
       " 'idademinina',\n",
       " 'logo',\n",
       " 'precisamos',\n",
       " 'criar',\n",
       " 'uma',\n",
       " 'nova',\n",
       " 'classe',\n",
       " 'com',\n",
       " 'o',\n",
       " 'nome',\n",
       " 'idademinima',\n",
       " 'java',\n",
       " 'mas',\n",
       " 'pensando',\n",
       " 'bem',\n",
       " 'estamos',\n",
       " 'criando',\n",
       " 'uma',\n",
       " 'classe',\n",
       " 'não',\n",
       " 'estamos',\n",
       " 'portanto',\n",
       " 'a',\n",
       " 'nomenclatura',\n",
       " 'é',\n",
       " 'diferente',\n",
       " 'para',\n",
       " 'uma',\n",
       " 'anotação',\n",
       " 'a',\n",
       " 'forma',\n",
       " 'correta',\n",
       " 'seria',\n",
       " 'java',\n",
       " 'estranho',\n",
       " 'né',\n",
       " 'mas',\n",
       " 'foi',\n",
       " 'o',\n",
       " 'jeito',\n",
       " 'que',\n",
       " 'o',\n",
       " 'pessoal',\n",
       " 'do',\n",
       " 'java',\n",
       " 'fez',\n",
       " 'para',\n",
       " 'falar',\n",
       " 'que',\n",
       " 'esse',\n",
       " 'arquivo',\n",
       " 'se',\n",
       " 'trata',\n",
       " 'de',\n",
       " 'uma',\n",
       " 'anotação',\n",
       " 'agora',\n",
       " 'temos',\n",
       " 'que',\n",
       " 'anotar',\n",
       " 'nossa',\n",
       " 'interface',\n",
       " 'com',\n",
       " 'algumas',\n",
       " 'anotações',\n",
       " 'obrigatórias',\n",
       " 'para',\n",
       " 'que',\n",
       " 'o',\n",
       " 'java',\n",
       " 'entenda',\n",
       " 'onde',\n",
       " 'e',\n",
       " 'quando',\n",
       " 'sua',\n",
       " 'anotação',\n",
       " 'pode',\n",
       " 'ser',\n",
       " 'utilizada',\n",
       " 'sendo',\n",
       " 'elas',\n",
       " 'retention',\n",
       " 'aqui',\n",
       " 'nós',\n",
       " 'falaremos',\n",
       " 'para',\n",
       " 'a',\n",
       " 'nossa',\n",
       " 'aplicação',\n",
       " 'até',\n",
       " 'quando',\n",
       " 'nossa',\n",
       " 'anotação',\n",
       " 'estará',\n",
       " 'disponível',\n",
       " 'target',\n",
       " 'aqui',\n",
       " 'passaremos',\n",
       " 'os',\n",
       " 'elementos',\n",
       " 'que',\n",
       " 'podem',\n",
       " 'ser',\n",
       " 'anotados',\n",
       " 'com',\n",
       " 'essa',\n",
       " 'anotação',\n",
       " 'até',\n",
       " 'onde',\n",
       " 'nossa',\n",
       " 'anotação',\n",
       " 'estará',\n",
       " 'disponível',\n",
       " 'precisamos',\n",
       " 'que',\n",
       " 'ela',\n",
       " 'seja',\n",
       " 'executada',\n",
       " 'quando',\n",
       " 'o',\n",
       " 'usuário',\n",
       " 'enviar',\n",
       " 'os',\n",
       " 'seus',\n",
       " 'dados',\n",
       " 'e',\n",
       " 'isso',\n",
       " 'acontece',\n",
       " 'quando',\n",
       " 'nossa',\n",
       " 'aplicação',\n",
       " 'está',\n",
       " 'rodando',\n",
       " 'logo',\n",
       " 'precisamos',\n",
       " 'dela',\n",
       " 'em',\n",
       " 'tempo',\n",
       " 'de',\n",
       " 'execução',\n",
       " 'java',\n",
       " 'e',\n",
       " 'quem',\n",
       " 'será',\n",
       " 'anotado',\n",
       " 'que',\n",
       " 'elemento',\n",
       " 'faz',\n",
       " 'sentido',\n",
       " 'ser',\n",
       " 'anotado',\n",
       " 'com',\n",
       " 'uma',\n",
       " 'anotação',\n",
       " 'que',\n",
       " 'verifica',\n",
       " 'se',\n",
       " 'o',\n",
       " 'usuário',\n",
       " 'tem',\n",
       " 'idade',\n",
       " 'suficiente',\n",
       " 'um',\n",
       " 'atributo',\n",
       " 'certo',\n",
       " 'logo',\n",
       " 'um',\n",
       " 'java',\n",
       " 'agora',\n",
       " 'que',\n",
       " 'já',\n",
       " 'especificamos',\n",
       " 'o',\n",
       " 'contexto',\n",
       " 'da',\n",
       " 'nossa',\n",
       " 'anotação',\n",
       " 'precisamos',\n",
       " 'falar',\n",
       " 'qual',\n",
       " 'a',\n",
       " 'idade',\n",
       " 'mínima',\n",
       " 'que',\n",
       " 'a',\n",
       " 'nossa',\n",
       " 'anotação',\n",
       " 'deve',\n",
       " 'usar',\n",
       " 'para',\n",
       " 'validar',\n",
       " 'a',\n",
       " 'idade',\n",
       " 'do',\n",
       " 'usuário',\n",
       " 'para',\n",
       " 'isso',\n",
       " 'vamos',\n",
       " 'criar',\n",
       " 'uma',\n",
       " 'propriedade',\n",
       " 'na',\n",
       " 'nossa',\n",
       " 'anotação',\n",
       " 'chamada',\n",
       " 'valor',\n",
       " 'java',\n",
       " 'nossa',\n",
       " 'anotação',\n",
       " 'está']"
      ]
     },
     "execution_count": 18,
     "metadata": {},
     "output_type": "execute_result"
    }
   ],
   "source": [
    "lista_normalizada = normalizacao(lista_palavras)\n",
    "lista_normalizada[:500]"
   ]
  },
  {
   "cell_type": "markdown",
   "metadata": {},
   "source": [
    "### Texto normalizado, todas as palavras que contém apenas letras foram separadas em uma lista, e trasnformada em minúscula."
   ]
  },
  {
   "cell_type": "code",
   "execution_count": 19,
   "metadata": {},
   "outputs": [
    {
     "data": {
      "text/plain": [
       "{0, 1, 2, 3, 4, 5, 6, 7, 8, 9}"
      ]
     },
     "execution_count": 19,
     "metadata": {},
     "output_type": "execute_result"
    }
   ],
   "source": [
    "# A funcção set, retorna os valores da lista sem repetições\n",
    "set([4, 4, 0, 1, 2, 3, 3, 3, 5, 6, 6, 8, 9, 7])"
   ]
  },
  {
   "cell_type": "code",
   "execution_count": 20,
   "metadata": {},
   "outputs": [
    {
     "data": {
      "text/plain": [
       "18465"
      ]
     },
     "execution_count": 20,
     "metadata": {},
     "output_type": "execute_result"
    }
   ],
   "source": [
    "len(set(lista_normalizada))"
   ]
  },
  {
   "cell_type": "markdown",
   "metadata": {},
   "source": [
    "### De um total de 403106 palavras, fora reduzido para 18465 palavras sem reperições e sem caracteres"
   ]
  },
  {
   "cell_type": "code",
   "execution_count": null,
   "metadata": {},
   "outputs": [],
   "source": []
  },
  {
   "cell_type": "code",
   "execution_count": 21,
   "metadata": {},
   "outputs": [],
   "source": [
    "''' Função definida para receber uma pavara e gerar um fatiamento no lado esquedo e no lado direito da palavra,\n",
    "    para que a letra de teste seja alocada entre elas e passando de posição em posição '''\n",
    "\n",
    "palavra_exemplo = \"lgica\"\n",
    "def gerador_palavras(palavra):\n",
    "    fatias = []\n",
    "    for i in range(len(palavra) + 1):\n",
    "        fatias.append((palavra[:i], palavra[i:]))\n",
    "    print(fatias)\n",
    "    #palavras_geradas = insere_letras(fatias)\n",
    "    #return palavras_geradas"
   ]
  },
  {
   "cell_type": "code",
   "execution_count": 22,
   "metadata": {},
   "outputs": [
    {
     "name": "stdout",
     "output_type": "stream",
     "text": [
      "[('', 'lgica'), ('l', 'gica'), ('lg', 'ica'), ('lgi', 'ca'), ('lgic', 'a'), ('lgica', '')]\n"
     ]
    }
   ],
   "source": [
    "''' Exemplo do que irá ocorrer com a função em cada palavra, de início, toda a palavra estará no canto direito\n",
    "    e a letra será inserida na posição 1, então cada letra da palavra se deslocara para a esquerda e a letra\n",
    "    de complementação se encaixara em cada espaço dessa transição'''\n",
    "gerador_palavras(palavra_exemplo)"
   ]
  },
  {
   "cell_type": "code",
   "execution_count": 38,
   "metadata": {
    "scrolled": true
   },
   "outputs": [
    {
     "name": "stdout",
     "output_type": "stream",
     "text": [
      "['algica', 'blgica', 'clgica', 'dlgica', 'elgica', 'flgica', 'glgica', 'hlgica', 'ilgica', 'jlgica', 'klgica', 'llgica', 'mlgica', 'nlgica', 'olgica', 'plgica', 'qlgica', 'rlgica', 'slgica', 'tlgica', 'ulgica', 'vlgica', 'wlgica', 'xlgica', 'ylgica', 'zlgica', 'àlgica', 'álgica', 'âlgica', 'ãlgica', 'èlgica', 'élgica', 'êlgica', 'ìlgica', 'ílgica', 'îlgica', 'òlgica', 'ólgica', 'ôlgica', 'õlgica', 'ùlgica', 'úlgica', 'ûlgica', 'çlgica', 'lagica', 'lbgica', 'lcgica', 'ldgica', 'legica', 'lfgica', 'lggica', 'lhgica', 'ligica', 'ljgica', 'lkgica', 'llgica', 'lmgica', 'lngica', 'logica', 'lpgica', 'lqgica', 'lrgica', 'lsgica', 'ltgica', 'lugica', 'lvgica', 'lwgica', 'lxgica', 'lygica', 'lzgica', 'làgica', 'lágica', 'lâgica', 'lãgica', 'lègica', 'légica', 'lêgica', 'lìgica', 'lígica', 'lîgica', 'lògica', 'lógica', 'lôgica', 'lõgica', 'lùgica', 'lúgica', 'lûgica', 'lçgica', 'lgaica', 'lgbica', 'lgcica', 'lgdica', 'lgeica', 'lgfica', 'lggica', 'lghica', 'lgiica', 'lgjica', 'lgkica', 'lglica', 'lgmica', 'lgnica', 'lgoica', 'lgpica', 'lgqica', 'lgrica', 'lgsica', 'lgtica', 'lguica', 'lgvica', 'lgwica', 'lgxica', 'lgyica', 'lgzica', 'lgàica', 'lgáica', 'lgâica', 'lgãica', 'lgèica', 'lgéica', 'lgêica', 'lgìica', 'lgíica', 'lgîica', 'lgòica', 'lgóica', 'lgôica', 'lgõica', 'lgùica', 'lgúica', 'lgûica', 'lgçica', 'lgiaca', 'lgibca', 'lgicca', 'lgidca', 'lgieca', 'lgifca', 'lgigca', 'lgihca', 'lgiica', 'lgijca', 'lgikca', 'lgilca', 'lgimca', 'lginca', 'lgioca', 'lgipca', 'lgiqca', 'lgirca', 'lgisca', 'lgitca', 'lgiuca', 'lgivca', 'lgiwca', 'lgixca', 'lgiyca', 'lgizca', 'lgiàca', 'lgiáca', 'lgiâca', 'lgiãca', 'lgièca', 'lgiéca', 'lgiêca', 'lgiìca', 'lgiíca', 'lgiîca', 'lgiòca', 'lgióca', 'lgiôca', 'lgiõca', 'lgiùca', 'lgiúca', 'lgiûca', 'lgiçca', 'lgicaa', 'lgicba', 'lgicca', 'lgicda', 'lgicea', 'lgicfa', 'lgicga', 'lgicha', 'lgicia', 'lgicja', 'lgicka', 'lgicla', 'lgicma', 'lgicna', 'lgicoa', 'lgicpa', 'lgicqa', 'lgicra', 'lgicsa', 'lgicta', 'lgicua', 'lgicva', 'lgicwa', 'lgicxa', 'lgicya', 'lgicza', 'lgicàa', 'lgicáa', 'lgicâa', 'lgicãa', 'lgicèa', 'lgicéa', 'lgicêa', 'lgicìa', 'lgicía', 'lgicîa', 'lgicòa', 'lgicóa', 'lgicôa', 'lgicõa', 'lgicùa', 'lgicúa', 'lgicûa', 'lgicça']\n"
     ]
    }
   ],
   "source": [
    "''' Função que insere uma nova letra, percorrendo todas as letras da variável destacada, e concatenando com o resultado\n",
    "    da função 'gerador_de_palavras' '''\n",
    "palavra_exemplo = \"lgica\"\n",
    "def insere_letras(fatias):\n",
    "    novas_palavras = []\n",
    "    letras = 'abcdefghijklmnopqrstuvwxyzàáâãèéêìíîòóôõùúûç'\n",
    "    for E,  D in fatias:    \n",
    "        for letra in letras:  \n",
    "            novas_palavras.append(E + letra + D)\n",
    "    return novas_palavras\n",
    "\n",
    "\n",
    "''' Função que fatia as palavras'''\n",
    "def gerador_palavras(palavra):\n",
    "    fatias = []\n",
    "    for i in range(len(palavra)):\n",
    "        fatias.append((palavra[:i], palavra[i:]))\n",
    "    palavras_geradas = insere_letras(fatias)\n",
    "    return palavras_geradas\n",
    "\n",
    "palavras_geradas = gerador_palavras(palavra_exemplo)\n",
    "print(palavras_geradas)"
   ]
  },
  {
   "cell_type": "markdown",
   "metadata": {},
   "source": [
    "# Corretor"
   ]
  },
  {
   "cell_type": "code",
   "execution_count": 24,
   "metadata": {},
   "outputs": [],
   "source": [
    "# Retorna a palavra que tem maior probabilidade de ser a correta em relaçao ao gerador de palavras e a base 'artigos'\n",
    "def corretor(palavra):\n",
    "    palavras_geradas = gerador_palavras(palavra)\n",
    "    palavra_correta = max(palavras_geradas, key = probabilidade)\n",
    "    return palavra_correta"
   ]
  },
  {
   "cell_type": "code",
   "execution_count": 25,
   "metadata": {},
   "outputs": [
    {
     "data": {
      "text/plain": [
       "[('de', 15502),\n",
       " ('o', 14056),\n",
       " ('que', 12230),\n",
       " ('a', 11099),\n",
       " ('e', 10501),\n",
       " ('para', 7710),\n",
       " ('um', 6368),\n",
       " ('é', 5899),\n",
       " ('uma', 5220),\n",
       " ('do', 5124)]"
      ]
     },
     "execution_count": 25,
     "metadata": {},
     "output_type": "execute_result"
    }
   ],
   "source": [
    "# retorna as palavras com maiores frequencias em 'artigos'\n",
    "frequencia = nltk.FreqDist(lista_normalizada)\n",
    "total_palavras = len(lista_normalizada)\n",
    "frequencia.most_common(10)"
   ]
  },
  {
   "cell_type": "code",
   "execution_count": 26,
   "metadata": {},
   "outputs": [
    {
     "data": {
      "text/plain": [
       "0.00023815075935361914"
      ]
     },
     "execution_count": 26,
     "metadata": {},
     "output_type": "execute_result"
    }
   ],
   "source": [
    "# retorna a probabilidade a palavra indicada, em relação a quantidade de palavras em 'artigos'\n",
    "def probabilidade(palavra_gerada):\n",
    "    return frequencia[palavra_gerada]/total_palavras\n",
    "\n",
    "probabilidade(\"lógica\")"
   ]
  },
  {
   "cell_type": "code",
   "execution_count": 27,
   "metadata": {},
   "outputs": [
    {
     "data": {
      "text/plain": [
       "'lógica'"
      ]
     },
     "execution_count": 27,
     "metadata": {},
     "output_type": "execute_result"
    }
   ],
   "source": [
    "# Resultado esperado com as funções, retorna todas as possível palavras, e retorna como resultado a com maior probabilidade\n",
    "corretor('lóica')"
   ]
  },
  {
   "cell_type": "code",
   "execution_count": 28,
   "metadata": {},
   "outputs": [
    {
     "data": {
      "text/plain": [
       "'hoje'"
      ]
     },
     "execution_count": 28,
     "metadata": {},
     "output_type": "execute_result"
    }
   ],
   "source": [
    "# Resultado esperado com as funções, retorna todas as possível palavras, e retorna como resultado a com maior probabilidade\n",
    "corretor('hoe')"
   ]
  },
  {
   "cell_type": "markdown",
   "metadata": {},
   "source": [
    "### Este corretor funciona apenas quando a palavra a ser corrigida está faltando uma letra e as outras estão corretas, não funciona caso a palavra tenha uma letra  a mais, ou se está faltando uma letra e no meio da palavra ainda existe outra letra errada como por exemplo a falta de um acento, e vale ressaltar que são probabilidades, o que não existe certeza absoluta da palavra retornada pelo corretor ser a esperada."
   ]
  },
  {
   "cell_type": "markdown",
   "metadata": {},
   "source": [
    "# Avaliador"
   ]
  },
  {
   "cell_type": "code",
   "execution_count": 29,
   "metadata": {},
   "outputs": [],
   "source": [
    "def cria_dados_teste(nome_arquivo):\n",
    "    lista_palavras_teste = []\n",
    "    f = open(nome_arquivo, \"r\", errors = 'ignore', encoding = 'utf-8')\n",
    "    for linha in f:\n",
    "        correta, errada = linha.split()\n",
    "        lista_palavras_teste.append((correta, errada))\n",
    "    f.close()\n",
    "    return lista_palavras_teste\n",
    "\n",
    "lista_teste = cria_dados_teste('corretor-master/palavras.txt')"
   ]
  },
  {
   "cell_type": "code",
   "execution_count": 30,
   "metadata": {
    "scrolled": false
   },
   "outputs": [],
   "source": [
    "#print(lista_teste)"
   ]
  },
  {
   "cell_type": "code",
   "execution_count": 31,
   "metadata": {},
   "outputs": [],
   "source": [
    "    \n",
    "def avaliador(testes):\n",
    "    numero_palavras = len(testes)\n",
    "    acertou = 0\n",
    "    for correta, errada in testes:\n",
    "        palavra_corrigida = corretor(errada)\n",
    "        if palavra_corrigida == correta:\n",
    "            acertou += 1\n",
    "    taxa_acerto = round(acertou*100/numero_palavras, 2)\n",
    "    print(f\"{taxa_acerto}% de {numero_palavras} palavras\")"
   ]
  },
  {
   "cell_type": "code",
   "execution_count": 32,
   "metadata": {
    "scrolled": true
   },
   "outputs": [
    {
     "name": "stdout",
     "output_type": "stream",
     "text": [
      "1.08% de 186 palavras\n"
     ]
    }
   ],
   "source": [
    "avaliador(lista_teste)"
   ]
  },
  {
   "cell_type": "markdown",
   "metadata": {},
   "source": [
    "# Deletando caracteres"
   ]
  },
  {
   "cell_type": "code",
   "execution_count": 33,
   "metadata": {},
   "outputs": [],
   "source": [
    "# função para deletar um caractere e concatenar \n",
    "def deletando_caracteres(fatias):\n",
    "    novas_palavras = []\n",
    "    for E, D in fatias:\n",
    "        novas_palavras.append(E + D[1:])\n",
    "    return novas_palavras"
   ]
  },
  {
   "cell_type": "code",
   "execution_count": 35,
   "metadata": {
    "scrolled": true
   },
   "outputs": [
    {
     "name": "stdout",
     "output_type": "stream",
     "text": [
      "['alógica', 'blógica', 'clógica', 'dlógica', 'elógica', 'flógica', 'glógica', 'hlógica', 'ilógica', 'jlógica', 'klógica', 'llógica', 'mlógica', 'nlógica', 'ológica', 'plógica', 'qlógica', 'rlógica', 'slógica', 'tlógica', 'ulógica', 'vlógica', 'wlógica', 'xlógica', 'ylógica', 'zlógica', 'àlógica', 'álógica', 'âlógica', 'ãlógica', 'èlógica', 'élógica', 'êlógica', 'ìlógica', 'ílógica', 'îlógica', 'òlógica', 'ólógica', 'ôlógica', 'õlógica', 'ùlógica', 'úlógica', 'ûlógica', 'çlógica', 'laógica', 'lbógica', 'lcógica', 'ldógica', 'leógica', 'lfógica', 'lgógica', 'lhógica', 'liógica', 'ljógica', 'lkógica', 'llógica', 'lmógica', 'lnógica', 'loógica', 'lpógica', 'lqógica', 'lrógica', 'lsógica', 'ltógica', 'luógica', 'lvógica', 'lwógica', 'lxógica', 'lyógica', 'lzógica', 'làógica', 'láógica', 'lâógica', 'lãógica', 'lèógica', 'léógica', 'lêógica', 'lìógica', 'líógica', 'lîógica', 'lòógica', 'lóógica', 'lôógica', 'lõógica', 'lùógica', 'lúógica', 'lûógica', 'lçógica', 'lóagica', 'lóbgica', 'lócgica', 'lódgica', 'lóegica', 'lófgica', 'lóggica', 'lóhgica', 'lóigica', 'lójgica', 'lókgica', 'lólgica', 'lómgica', 'lóngica', 'lóogica', 'lópgica', 'lóqgica', 'lórgica', 'lósgica', 'lótgica', 'lóugica', 'lóvgica', 'lówgica', 'lóxgica', 'lóygica', 'lózgica', 'lóàgica', 'lóágica', 'lóâgica', 'lóãgica', 'lóègica', 'lóégica', 'lóêgica', 'lóìgica', 'lóígica', 'lóîgica', 'lóògica', 'lóógica', 'lóôgica', 'lóõgica', 'lóùgica', 'lóúgica', 'lóûgica', 'lóçgica', 'lógaica', 'lógbica', 'lógcica', 'lógdica', 'lógeica', 'lógfica', 'lóggica', 'lóghica', 'lógiica', 'lógjica', 'lógkica', 'lóglica', 'lógmica', 'lógnica', 'lógoica', 'lógpica', 'lógqica', 'lógrica', 'lógsica', 'lógtica', 'lóguica', 'lógvica', 'lógwica', 'lógxica', 'lógyica', 'lógzica', 'lógàica', 'lógáica', 'lógâica', 'lógãica', 'lógèica', 'lógéica', 'lógêica', 'lógìica', 'lógíica', 'lógîica', 'lógòica', 'lógóica', 'lógôica', 'lógõica', 'lógùica', 'lógúica', 'lógûica', 'lógçica', 'lógiaca', 'lógibca', 'lógicca', 'lógidca', 'lógieca', 'lógifca', 'lógigca', 'lógihca', 'lógiica', 'lógijca', 'lógikca', 'lógilca', 'lógimca', 'lóginca', 'lógioca', 'lógipca', 'lógiqca', 'lógirca', 'lógisca', 'lógitca', 'lógiuca', 'lógivca', 'lógiwca', 'lógixca', 'lógiyca', 'lógizca', 'lógiàca', 'lógiáca', 'lógiâca', 'lógiãca', 'lógièca', 'lógiéca', 'lógiêca', 'lógiìca', 'lógiíca', 'lógiîca', 'lógiòca', 'lógióca', 'lógiôca', 'lógiõca', 'lógiùca', 'lógiúca', 'lógiûca', 'lógiçca', 'lógicaa', 'lógicba', 'lógicca', 'lógicda', 'lógicea', 'lógicfa', 'lógicga', 'lógicha', 'lógicia', 'lógicja', 'lógicka', 'lógicla', 'lógicma', 'lógicna', 'lógicoa', 'lógicpa', 'lógicqa', 'lógicra', 'lógicsa', 'lógicta', 'lógicua', 'lógicva', 'lógicwa', 'lógicxa', 'lógicya', 'lógicza', 'lógicàa', 'lógicáa', 'lógicâa', 'lógicãa', 'lógicèa', 'lógicéa', 'lógicêa', 'lógicìa', 'lógicía', 'lógicîa', 'lógicòa', 'lógicóa', 'lógicôa', 'lógicõa', 'lógicùa', 'lógicúa', 'lógicûa', 'lógicça', 'ógica', 'lgica', 'lóica', 'lógca', 'lógia', 'lógic']\n"
     ]
    }
   ],
   "source": [
    "def gerador_palavras(palavra):\n",
    "    fatias = []\n",
    "    for i in range(len(palavra)):\n",
    "        fatias.append((palavra[:i], palavra[i:]))\n",
    "    palavras_geradas = insere_letras(fatias) # insere o caractere\n",
    "    palavras_geradas += deletando_caracteres(fatias) # deleta o caractere\n",
    "    return palavras_geradas\n",
    "\n",
    "palavra_exemplo = 'lógica'\n",
    "palavras_geradas = gerador_palavras(palavra_exemplo)\n",
    "print(palavras_geradas)"
   ]
  },
  {
   "cell_type": "code",
   "execution_count": 36,
   "metadata": {},
   "outputs": [
    {
     "name": "stdout",
     "output_type": "stream",
     "text": [
      "41.4% de 186 palavras\n"
     ]
    }
   ],
   "source": [
    "avaliador(lista_teste)"
   ]
  },
  {
   "cell_type": "markdown",
   "metadata": {},
   "source": [
    "### O algorítimo agora é capaz de além de adicionar, também deleta um caracter da palavra, com esses dois tratamentos conseguimos uma taxa de 41.4% de precisão até o momento.m "
   ]
  },
  {
   "cell_type": "markdown",
   "metadata": {},
   "source": [
    "# Trocando a letra"
   ]
  },
  {
   "cell_type": "code",
   "execution_count": 39,
   "metadata": {},
   "outputs": [],
   "source": [
    "def troca_letras(fatias):\n",
    "    novas_palavras = []\n",
    "    letras = 'abcdefghijklmnopqrstuvwxyzàáâãèéêìíîòóôõùúûç'\n",
    "    for E,  D in fatias:    \n",
    "        for letra in letras:  \n",
    "            novas_palavras.append(E + letra + D[1:])\n",
    "    return novas_palavras"
   ]
  },
  {
   "cell_type": "code",
   "execution_count": 40,
   "metadata": {},
   "outputs": [],
   "source": [
    "def gerador_palavras(palavra):\n",
    "    fatias = []\n",
    "    for i in range(len(palavra)):\n",
    "        fatias.append((palavra[:i], palavra[i:]))\n",
    "    palavras_geradas = insere_letras(fatias) # insere o caractere\n",
    "    palavras_geradas += deletando_caracteres(fatias) # deleta o caractere\n",
    "    palavras_geradas += troca_letras(fatias)\n",
    "    return palavras_geradas"
   ]
  },
  {
   "cell_type": "code",
   "execution_count": 42,
   "metadata": {
    "scrolled": true
   },
   "outputs": [
    {
     "name": "stdout",
     "output_type": "stream",
     "text": [
      "['alígica', 'blígica', 'clígica', 'dlígica', 'elígica', 'flígica', 'glígica', 'hlígica', 'ilígica', 'jlígica', 'klígica', 'llígica', 'mlígica', 'nlígica', 'olígica', 'plígica', 'qlígica', 'rlígica', 'slígica', 'tlígica', 'ulígica', 'vlígica', 'wlígica', 'xlígica', 'ylígica', 'zlígica', 'àlígica', 'álígica', 'âlígica', 'ãlígica', 'èlígica', 'élígica', 'êlígica', 'ìlígica', 'ílígica', 'îlígica', 'òlígica', 'ólígica', 'ôlígica', 'õlígica', 'ùlígica', 'úlígica', 'ûlígica', 'çlígica', 'laígica', 'lbígica', 'lcígica', 'ldígica', 'leígica', 'lfígica', 'lgígica', 'lhígica', 'liígica', 'ljígica', 'lkígica', 'llígica', 'lmígica', 'lnígica', 'loígica', 'lpígica', 'lqígica', 'lrígica', 'lsígica', 'ltígica', 'luígica', 'lvígica', 'lwígica', 'lxígica', 'lyígica', 'lzígica', 'làígica', 'láígica', 'lâígica', 'lãígica', 'lèígica', 'léígica', 'lêígica', 'lìígica', 'líígica', 'lîígica', 'lòígica', 'lóígica', 'lôígica', 'lõígica', 'lùígica', 'lúígica', 'lûígica', 'lçígica', 'líagica', 'líbgica', 'lícgica', 'lídgica', 'líegica', 'lífgica', 'líggica', 'líhgica', 'líigica', 'líjgica', 'líkgica', 'lílgica', 'límgica', 'língica', 'líogica', 'lípgica', 'líqgica', 'lírgica', 'lísgica', 'lítgica', 'líugica', 'lívgica', 'líwgica', 'líxgica', 'líygica', 'lízgica', 'líàgica', 'líágica', 'líâgica', 'líãgica', 'líègica', 'líégica', 'líêgica', 'líìgica', 'líígica', 'líîgica', 'líògica', 'líógica', 'líôgica', 'líõgica', 'líùgica', 'líúgica', 'líûgica', 'líçgica', 'lígaica', 'lígbica', 'lígcica', 'lígdica', 'lígeica', 'lígfica', 'líggica', 'líghica', 'lígiica', 'lígjica', 'lígkica', 'líglica', 'lígmica', 'lígnica', 'lígoica', 'lígpica', 'lígqica', 'lígrica', 'lígsica', 'lígtica', 'líguica', 'lígvica', 'lígwica', 'lígxica', 'lígyica', 'lígzica', 'lígàica', 'lígáica', 'lígâica', 'lígãica', 'lígèica', 'lígéica', 'lígêica', 'lígìica', 'lígíica', 'lígîica', 'lígòica', 'lígóica', 'lígôica', 'lígõica', 'lígùica', 'lígúica', 'lígûica', 'lígçica', 'lígiaca', 'lígibca', 'lígicca', 'lígidca', 'lígieca', 'lígifca', 'lígigca', 'lígihca', 'lígiica', 'lígijca', 'lígikca', 'lígilca', 'lígimca', 'líginca', 'lígioca', 'lígipca', 'lígiqca', 'lígirca', 'lígisca', 'lígitca', 'lígiuca', 'lígivca', 'lígiwca', 'lígixca', 'lígiyca', 'lígizca', 'lígiàca', 'lígiáca', 'lígiâca', 'lígiãca', 'lígièca', 'lígiéca', 'lígiêca', 'lígiìca', 'lígiíca', 'lígiîca', 'lígiòca', 'lígióca', 'lígiôca', 'lígiõca', 'lígiùca', 'lígiúca', 'lígiûca', 'lígiçca', 'lígicaa', 'lígicba', 'lígicca', 'lígicda', 'lígicea', 'lígicfa', 'lígicga', 'lígicha', 'lígicia', 'lígicja', 'lígicka', 'lígicla', 'lígicma', 'lígicna', 'lígicoa', 'lígicpa', 'lígicqa', 'lígicra', 'lígicsa', 'lígicta', 'lígicua', 'lígicva', 'lígicwa', 'lígicxa', 'lígicya', 'lígicza', 'lígicàa', 'lígicáa', 'lígicâa', 'lígicãa', 'lígicèa', 'lígicéa', 'lígicêa', 'lígicìa', 'lígicía', 'lígicîa', 'lígicòa', 'lígicóa', 'lígicôa', 'lígicõa', 'lígicùa', 'lígicúa', 'lígicûa', 'lígicça', 'ígica', 'lgica', 'líica', 'lígca', 'lígia', 'lígic', 'aígica', 'bígica', 'cígica', 'dígica', 'eígica', 'fígica', 'gígica', 'hígica', 'iígica', 'jígica', 'kígica', 'lígica', 'mígica', 'nígica', 'oígica', 'pígica', 'qígica', 'rígica', 'sígica', 'tígica', 'uígica', 'vígica', 'wígica', 'xígica', 'yígica', 'zígica', 'àígica', 'áígica', 'âígica', 'ãígica', 'èígica', 'éígica', 'êígica', 'ìígica', 'íígica', 'îígica', 'òígica', 'óígica', 'ôígica', 'õígica', 'ùígica', 'úígica', 'ûígica', 'çígica', 'lagica', 'lbgica', 'lcgica', 'ldgica', 'legica', 'lfgica', 'lggica', 'lhgica', 'ligica', 'ljgica', 'lkgica', 'llgica', 'lmgica', 'lngica', 'logica', 'lpgica', 'lqgica', 'lrgica', 'lsgica', 'ltgica', 'lugica', 'lvgica', 'lwgica', 'lxgica', 'lygica', 'lzgica', 'làgica', 'lágica', 'lâgica', 'lãgica', 'lègica', 'légica', 'lêgica', 'lìgica', 'lígica', 'lîgica', 'lògica', 'lógica', 'lôgica', 'lõgica', 'lùgica', 'lúgica', 'lûgica', 'lçgica', 'líaica', 'líbica', 'lícica', 'lídica', 'líeica', 'lífica', 'lígica', 'líhica', 'líiica', 'líjica', 'líkica', 'lílica', 'límica', 'línica', 'líoica', 'lípica', 'líqica', 'lírica', 'lísica', 'lítica', 'líuica', 'lívica', 'líwica', 'líxica', 'líyica', 'lízica', 'líàica', 'líáica', 'líâica', 'líãica', 'líèica', 'líéica', 'líêica', 'líìica', 'lííica', 'líîica', 'líòica', 'líóica', 'líôica', 'líõica', 'líùica', 'líúica', 'líûica', 'líçica', 'lígaca', 'lígbca', 'lígcca', 'lígdca', 'lígeca', 'lígfca', 'líggca', 'líghca', 'lígica', 'lígjca', 'lígkca', 'líglca', 'lígmca', 'lígnca', 'lígoca', 'lígpca', 'lígqca', 'lígrca', 'lígsca', 'lígtca', 'líguca', 'lígvca', 'lígwca', 'lígxca', 'lígyca', 'lígzca', 'lígàca', 'lígáca', 'lígâca', 'lígãca', 'lígèca', 'lígéca', 'lígêca', 'lígìca', 'lígíca', 'lígîca', 'lígòca', 'lígóca', 'lígôca', 'lígõca', 'lígùca', 'lígúca', 'lígûca', 'lígçca', 'lígiaa', 'lígiba', 'lígica', 'lígida', 'lígiea', 'lígifa', 'lígiga', 'lígiha', 'lígiia', 'lígija', 'lígika', 'lígila', 'lígima', 'lígina', 'lígioa', 'lígipa', 'lígiqa', 'lígira', 'lígisa', 'lígita', 'lígiua', 'lígiva', 'lígiwa', 'lígixa', 'lígiya', 'lígiza', 'lígiàa', 'lígiáa', 'lígiâa', 'lígiãa', 'lígièa', 'lígiéa', 'lígiêa', 'lígiìa', 'lígiía', 'lígiîa', 'lígiòa', 'lígióa', 'lígiôa', 'lígiõa', 'lígiùa', 'lígiúa', 'lígiûa', 'lígiça', 'lígica', 'lígicb', 'lígicc', 'lígicd', 'lígice', 'lígicf', 'lígicg', 'lígich', 'lígici', 'lígicj', 'lígick', 'lígicl', 'lígicm', 'lígicn', 'lígico', 'lígicp', 'lígicq', 'lígicr', 'lígics', 'lígict', 'lígicu', 'lígicv', 'lígicw', 'lígicx', 'lígicy', 'lígicz', 'lígicà', 'lígicá', 'lígicâ', 'lígicã', 'lígicè', 'lígicé', 'lígicê', 'lígicì', 'lígicí', 'lígicî', 'lígicò', 'lígicó', 'lígicô', 'lígicõ', 'lígicù', 'lígicú', 'lígicû', 'lígicç']\n"
     ]
    }
   ],
   "source": [
    "palavra_exemplo = 'lígica'\n",
    "palavras_geradas = gerador_palavras(palavra_exemplo)\n",
    "print(palavras_geradas)"
   ]
  },
  {
   "cell_type": "markdown",
   "metadata": {},
   "source": [
    "# Inverção de letras"
   ]
  },
  {
   "cell_type": "code",
   "execution_count": 43,
   "metadata": {},
   "outputs": [],
   "source": [
    "def inverte_letras(fatias):\n",
    "    novas_palavras = []\n",
    "    for E, D in fatias:\n",
    "        if len(D) > 1:\n",
    "            novas_palavras.append(E + D[1] + D[0] + D [2:])\n",
    "    return novas_palavras"
   ]
  },
  {
   "cell_type": "code",
   "execution_count": 44,
   "metadata": {
    "scrolled": true
   },
   "outputs": [
    {
     "name": "stdout",
     "output_type": "stream",
     "text": [
      "['algóica', 'blgóica', 'clgóica', 'dlgóica', 'elgóica', 'flgóica', 'glgóica', 'hlgóica', 'ilgóica', 'jlgóica', 'klgóica', 'llgóica', 'mlgóica', 'nlgóica', 'olgóica', 'plgóica', 'qlgóica', 'rlgóica', 'slgóica', 'tlgóica', 'ulgóica', 'vlgóica', 'wlgóica', 'xlgóica', 'ylgóica', 'zlgóica', 'àlgóica', 'álgóica', 'âlgóica', 'ãlgóica', 'èlgóica', 'élgóica', 'êlgóica', 'ìlgóica', 'ílgóica', 'îlgóica', 'òlgóica', 'ólgóica', 'ôlgóica', 'õlgóica', 'ùlgóica', 'úlgóica', 'ûlgóica', 'çlgóica', 'lagóica', 'lbgóica', 'lcgóica', 'ldgóica', 'legóica', 'lfgóica', 'lggóica', 'lhgóica', 'ligóica', 'ljgóica', 'lkgóica', 'llgóica', 'lmgóica', 'lngóica', 'logóica', 'lpgóica', 'lqgóica', 'lrgóica', 'lsgóica', 'ltgóica', 'lugóica', 'lvgóica', 'lwgóica', 'lxgóica', 'lygóica', 'lzgóica', 'làgóica', 'lágóica', 'lâgóica', 'lãgóica', 'lègóica', 'légóica', 'lêgóica', 'lìgóica', 'lígóica', 'lîgóica', 'lògóica', 'lógóica', 'lôgóica', 'lõgóica', 'lùgóica', 'lúgóica', 'lûgóica', 'lçgóica', 'lgaóica', 'lgbóica', 'lgcóica', 'lgdóica', 'lgeóica', 'lgfóica', 'lggóica', 'lghóica', 'lgióica', 'lgjóica', 'lgkóica', 'lglóica', 'lgmóica', 'lgnóica', 'lgoóica', 'lgpóica', 'lgqóica', 'lgróica', 'lgsóica', 'lgtóica', 'lguóica', 'lgvóica', 'lgwóica', 'lgxóica', 'lgyóica', 'lgzóica', 'lgàóica', 'lgáóica', 'lgâóica', 'lgãóica', 'lgèóica', 'lgéóica', 'lgêóica', 'lgìóica', 'lgíóica', 'lgîóica', 'lgòóica', 'lgóóica', 'lgôóica', 'lgõóica', 'lgùóica', 'lgúóica', 'lgûóica', 'lgçóica', 'lgóaica', 'lgóbica', 'lgócica', 'lgódica', 'lgóeica', 'lgófica', 'lgógica', 'lgóhica', 'lgóiica', 'lgójica', 'lgókica', 'lgólica', 'lgómica', 'lgónica', 'lgóoica', 'lgópica', 'lgóqica', 'lgórica', 'lgósica', 'lgótica', 'lgóuica', 'lgóvica', 'lgówica', 'lgóxica', 'lgóyica', 'lgózica', 'lgóàica', 'lgóáica', 'lgóâica', 'lgóãica', 'lgóèica', 'lgóéica', 'lgóêica', 'lgóìica', 'lgóíica', 'lgóîica', 'lgóòica', 'lgóóica', 'lgóôica', 'lgóõica', 'lgóùica', 'lgóúica', 'lgóûica', 'lgóçica', 'lgóiaca', 'lgóibca', 'lgóicca', 'lgóidca', 'lgóieca', 'lgóifca', 'lgóigca', 'lgóihca', 'lgóiica', 'lgóijca', 'lgóikca', 'lgóilca', 'lgóimca', 'lgóinca', 'lgóioca', 'lgóipca', 'lgóiqca', 'lgóirca', 'lgóisca', 'lgóitca', 'lgóiuca', 'lgóivca', 'lgóiwca', 'lgóixca', 'lgóiyca', 'lgóizca', 'lgóiàca', 'lgóiáca', 'lgóiâca', 'lgóiãca', 'lgóièca', 'lgóiéca', 'lgóiêca', 'lgóiìca', 'lgóiíca', 'lgóiîca', 'lgóiòca', 'lgóióca', 'lgóiôca', 'lgóiõca', 'lgóiùca', 'lgóiúca', 'lgóiûca', 'lgóiçca', 'lgóicaa', 'lgóicba', 'lgóicca', 'lgóicda', 'lgóicea', 'lgóicfa', 'lgóicga', 'lgóicha', 'lgóicia', 'lgóicja', 'lgóicka', 'lgóicla', 'lgóicma', 'lgóicna', 'lgóicoa', 'lgóicpa', 'lgóicqa', 'lgóicra', 'lgóicsa', 'lgóicta', 'lgóicua', 'lgóicva', 'lgóicwa', 'lgóicxa', 'lgóicya', 'lgóicza', 'lgóicàa', 'lgóicáa', 'lgóicâa', 'lgóicãa', 'lgóicèa', 'lgóicéa', 'lgóicêa', 'lgóicìa', 'lgóicía', 'lgóicîa', 'lgóicòa', 'lgóicóa', 'lgóicôa', 'lgóicõa', 'lgóicùa', 'lgóicúa', 'lgóicûa', 'lgóicça', 'góica', 'lóica', 'lgica', 'lgóca', 'lgóia', 'lgóic', 'agóica', 'bgóica', 'cgóica', 'dgóica', 'egóica', 'fgóica', 'ggóica', 'hgóica', 'igóica', 'jgóica', 'kgóica', 'lgóica', 'mgóica', 'ngóica', 'ogóica', 'pgóica', 'qgóica', 'rgóica', 'sgóica', 'tgóica', 'ugóica', 'vgóica', 'wgóica', 'xgóica', 'ygóica', 'zgóica', 'àgóica', 'ágóica', 'âgóica', 'ãgóica', 'ègóica', 'égóica', 'êgóica', 'ìgóica', 'ígóica', 'îgóica', 'ògóica', 'ógóica', 'ôgóica', 'õgóica', 'ùgóica', 'úgóica', 'ûgóica', 'çgóica', 'laóica', 'lbóica', 'lcóica', 'ldóica', 'leóica', 'lfóica', 'lgóica', 'lhóica', 'lióica', 'ljóica', 'lkóica', 'llóica', 'lmóica', 'lnóica', 'loóica', 'lpóica', 'lqóica', 'lróica', 'lsóica', 'ltóica', 'luóica', 'lvóica', 'lwóica', 'lxóica', 'lyóica', 'lzóica', 'làóica', 'láóica', 'lâóica', 'lãóica', 'lèóica', 'léóica', 'lêóica', 'lìóica', 'líóica', 'lîóica', 'lòóica', 'lóóica', 'lôóica', 'lõóica', 'lùóica', 'lúóica', 'lûóica', 'lçóica', 'lgaica', 'lgbica', 'lgcica', 'lgdica', 'lgeica', 'lgfica', 'lggica', 'lghica', 'lgiica', 'lgjica', 'lgkica', 'lglica', 'lgmica', 'lgnica', 'lgoica', 'lgpica', 'lgqica', 'lgrica', 'lgsica', 'lgtica', 'lguica', 'lgvica', 'lgwica', 'lgxica', 'lgyica', 'lgzica', 'lgàica', 'lgáica', 'lgâica', 'lgãica', 'lgèica', 'lgéica', 'lgêica', 'lgìica', 'lgíica', 'lgîica', 'lgòica', 'lgóica', 'lgôica', 'lgõica', 'lgùica', 'lgúica', 'lgûica', 'lgçica', 'lgóaca', 'lgóbca', 'lgócca', 'lgódca', 'lgóeca', 'lgófca', 'lgógca', 'lgóhca', 'lgóica', 'lgójca', 'lgókca', 'lgólca', 'lgómca', 'lgónca', 'lgóoca', 'lgópca', 'lgóqca', 'lgórca', 'lgósca', 'lgótca', 'lgóuca', 'lgóvca', 'lgówca', 'lgóxca', 'lgóyca', 'lgózca', 'lgóàca', 'lgóáca', 'lgóâca', 'lgóãca', 'lgóèca', 'lgóéca', 'lgóêca', 'lgóìca', 'lgóíca', 'lgóîca', 'lgóòca', 'lgóóca', 'lgóôca', 'lgóõca', 'lgóùca', 'lgóúca', 'lgóûca', 'lgóçca', 'lgóiaa', 'lgóiba', 'lgóica', 'lgóida', 'lgóiea', 'lgóifa', 'lgóiga', 'lgóiha', 'lgóiia', 'lgóija', 'lgóika', 'lgóila', 'lgóima', 'lgóina', 'lgóioa', 'lgóipa', 'lgóiqa', 'lgóira', 'lgóisa', 'lgóita', 'lgóiua', 'lgóiva', 'lgóiwa', 'lgóixa', 'lgóiya', 'lgóiza', 'lgóiàa', 'lgóiáa', 'lgóiâa', 'lgóiãa', 'lgóièa', 'lgóiéa', 'lgóiêa', 'lgóiìa', 'lgóiía', 'lgóiîa', 'lgóiòa', 'lgóióa', 'lgóiôa', 'lgóiõa', 'lgóiùa', 'lgóiúa', 'lgóiûa', 'lgóiça', 'lgóica', 'lgóicb', 'lgóicc', 'lgóicd', 'lgóice', 'lgóicf', 'lgóicg', 'lgóich', 'lgóici', 'lgóicj', 'lgóick', 'lgóicl', 'lgóicm', 'lgóicn', 'lgóico', 'lgóicp', 'lgóicq', 'lgóicr', 'lgóics', 'lgóict', 'lgóicu', 'lgóicv', 'lgóicw', 'lgóicx', 'lgóicy', 'lgóicz', 'lgóicà', 'lgóicá', 'lgóicâ', 'lgóicã', 'lgóicè', 'lgóicé', 'lgóicê', 'lgóicì', 'lgóicí', 'lgóicî', 'lgóicò', 'lgóicó', 'lgóicô', 'lgóicõ', 'lgóicù', 'lgóicú', 'lgóicû', 'lgóicç']\n"
     ]
    }
   ],
   "source": [
    "palavra_exemplo = 'lgóica'\n",
    "palavras_geradas = gerador_palavras(palavra_exemplo)\n",
    "print(palavras_geradas)"
   ]
  },
  {
   "cell_type": "code",
   "execution_count": 45,
   "metadata": {},
   "outputs": [
    {
     "name": "stdout",
     "output_type": "stream",
     "text": [
      "76.34% de 186 palavras\n"
     ]
    }
   ],
   "source": [
    "avaliador(lista_teste)"
   ]
  },
  {
   "cell_type": "code",
   "execution_count": null,
   "metadata": {},
   "outputs": [],
   "source": []
  }
 ],
 "metadata": {
  "kernelspec": {
   "display_name": "Python 3",
   "language": "python",
   "name": "python3"
  },
  "language_info": {
   "codemirror_mode": {
    "name": "ipython",
    "version": 3
   },
   "file_extension": ".py",
   "mimetype": "text/x-python",
   "name": "python",
   "nbconvert_exporter": "python",
   "pygments_lexer": "ipython3",
   "version": "3.8.3"
  }
 },
 "nbformat": 4,
 "nbformat_minor": 4
}
