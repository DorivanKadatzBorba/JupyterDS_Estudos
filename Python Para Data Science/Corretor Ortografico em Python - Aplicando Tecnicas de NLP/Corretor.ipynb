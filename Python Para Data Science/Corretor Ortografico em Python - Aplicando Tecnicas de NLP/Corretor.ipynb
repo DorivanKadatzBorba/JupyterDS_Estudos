{
 "cells": [
  {
   "cell_type": "markdown",
   "metadata": {},
   "source": [
    "# Carregando arquivo de dados"
   ]
  },
  {
   "cell_type": "code",
   "execution_count": 35,
   "metadata": {},
   "outputs": [],
   "source": [
    "with open('corretor-master/artigos.txt', 'r', errors = 'ignore', encoding = 'utf-8') as f:\n",
    "    artigos = f.read()"
   ]
  },
  {
   "cell_type": "code",
   "execution_count": 36,
   "metadata": {},
   "outputs": [
    {
     "name": "stdout",
     "output_type": "stream",
     "text": [
      "\n",
      "\n",
      "\n",
      "imagem \n",
      "\n",
      "Temos a seguinte classe que representa um usuário no nosso sistema:\n",
      "\n",
      "java\n",
      "\n",
      "Para salvar um novo usuário, várias validações são feitas, como por exemplo: Ver se o nome só contém letras, [**o CPF só números**] e ver se o usuário possui no mínimo 18 anos. Veja o método que faz essa validação:\n",
      "\n",
      "java \n",
      "\n",
      "Suponha agora que eu tenha outra classe, a classe `Produto`, que contém um atributo nome e eu quero fazer a mesma validação que fiz para o nome do usuário: Ver se só contém letras. E aí? Vou\n"
     ]
    }
   ],
   "source": [
    "print(artigos[:500])"
   ]
  },
  {
   "cell_type": "code",
   "execution_count": 37,
   "metadata": {},
   "outputs": [
    {
     "data": {
      "text/plain": [
       "2605046"
      ]
     },
     "execution_count": 37,
     "metadata": {},
     "output_type": "execute_result"
    }
   ],
   "source": [
    "len(artigos)"
   ]
  },
  {
   "cell_type": "code",
   "execution_count": 38,
   "metadata": {},
   "outputs": [],
   "source": [
    "texto_exemplo = \"Olá, tudo bem?\"\n",
    "tokens = texto_exemplo.split()"
   ]
  },
  {
   "cell_type": "code",
   "execution_count": 39,
   "metadata": {},
   "outputs": [
    {
     "data": {
      "text/plain": [
       "['Olá,', 'tudo', 'bem?']"
      ]
     },
     "execution_count": 39,
     "metadata": {},
     "output_type": "execute_result"
    }
   ],
   "source": [
    "tokens"
   ]
  },
  {
   "cell_type": "code",
   "execution_count": 40,
   "metadata": {},
   "outputs": [
    {
     "data": {
      "text/plain": [
       "3"
      ]
     },
     "execution_count": 40,
     "metadata": {},
     "output_type": "execute_result"
    }
   ],
   "source": [
    "len(tokens)"
   ]
  },
  {
   "cell_type": "markdown",
   "metadata": {},
   "source": [
    "# NLTK separando os tokens"
   ]
  },
  {
   "cell_type": "code",
   "execution_count": 41,
   "metadata": {},
   "outputs": [],
   "source": [
    "import nltk"
   ]
  },
  {
   "cell_type": "code",
   "execution_count": 42,
   "metadata": {},
   "outputs": [
    {
     "name": "stderr",
     "output_type": "stream",
     "text": [
      "[nltk_data] Downloading package punkt to\n",
      "[nltk_data]     C:\\Users\\Dorivan\\AppData\\Roaming\\nltk_data...\n",
      "[nltk_data]   Package punkt is already up-to-date!\n"
     ]
    },
    {
     "data": {
      "text/plain": [
       "True"
      ]
     },
     "execution_count": 42,
     "metadata": {},
     "output_type": "execute_result"
    }
   ],
   "source": [
    "nltk.download('punkt')"
   ]
  },
  {
   "cell_type": "code",
   "execution_count": 43,
   "metadata": {},
   "outputs": [],
   "source": [
    "# Separa as palavras dos caracteres\n",
    "palavras_separadas = nltk.tokenize.word_tokenize(texto_exemplo)"
   ]
  },
  {
   "cell_type": "code",
   "execution_count": 44,
   "metadata": {},
   "outputs": [
    {
     "data": {
      "text/plain": [
       "['Olá', ',', 'tudo', 'bem', '?']"
      ]
     },
     "execution_count": 44,
     "metadata": {},
     "output_type": "execute_result"
    }
   ],
   "source": [
    "palavras_separadas"
   ]
  },
  {
   "cell_type": "code",
   "execution_count": 45,
   "metadata": {},
   "outputs": [
    {
     "data": {
      "text/plain": [
       "5"
      ]
     },
     "execution_count": 45,
     "metadata": {},
     "output_type": "execute_result"
    }
   ],
   "source": [
    "len(palavras_separadas)"
   ]
  },
  {
   "cell_type": "code",
   "execution_count": 46,
   "metadata": {},
   "outputs": [
    {
     "data": {
      "text/plain": [
       "True"
      ]
     },
     "execution_count": 46,
     "metadata": {},
     "output_type": "execute_result"
    }
   ],
   "source": [
    "'palavra'.isalpha()"
   ]
  },
  {
   "cell_type": "code",
   "execution_count": 47,
   "metadata": {},
   "outputs": [],
   "source": [
    "# Percorre todos os dados do parâmetro, e atribui a uma lista apenas as palavras que são Alpha, que conteém letras\n",
    "def separa_palavras(lista_tokens):\n",
    "    lista_palavras = []\n",
    "    for token in lista_tokens:\n",
    "        if token.isalpha():\n",
    "            lista_palavras.append(token)\n",
    "    return lista_palavras"
   ]
  },
  {
   "cell_type": "code",
   "execution_count": 48,
   "metadata": {},
   "outputs": [
    {
     "data": {
      "text/plain": [
       "['Olá', 'tudo', 'bem']"
      ]
     },
     "execution_count": 48,
     "metadata": {},
     "output_type": "execute_result"
    }
   ],
   "source": [
    "# Testando a função\n",
    "separa_palavras(palavras_separadas)"
   ]
  },
  {
   "cell_type": "code",
   "execution_count": 52,
   "metadata": {},
   "outputs": [
    {
     "name": "stdout",
     "output_type": "stream",
     "text": [
      "O número de palavras é 403106\n"
     ]
    }
   ],
   "source": [
    "# Executando a função com os dados do 'artigo'\n",
    "# variável que recebe as funcões de tokenização da base 'artigos'\n",
    "lista_tokens = nltk.tokenize.word_tokenize(artigos)\n",
    "\n",
    "# Executa a função com a variável que recebeu a tokenização\n",
    "lista_palavras = separa_palavras(lista_tokens)\n",
    "\n",
    "# Exibe a quantidade de palavras encontradas apenas com letras na base 'artigos'\n",
    "print('O número de palavras é', len(lista_palavras))"
   ]
  },
  {
   "cell_type": "markdown",
   "metadata": {},
   "source": [
    "# Processo de normalização"
   ]
  },
  {
   "cell_type": "markdown",
   "metadata": {},
   "source": [
    "### Retirando palavras repetidas"
   ]
  },
  {
   "cell_type": "code",
   "execution_count": 53,
   "metadata": {},
   "outputs": [],
   "source": [
    "# função que recebe a 'lista_palavras', trasnforma a palavra para que fique toda minúscula \n",
    "def normalizacao(lista_palavras):\n",
    "    lista_normalizada = []\n",
    "    for palavra in lista_palavras:\n",
    "        lista_normalizada.append(palavra.lower())\n",
    "    return lista_normalizada"
   ]
  },
  {
   "cell_type": "code",
   "execution_count": 55,
   "metadata": {},
   "outputs": [
    {
     "data": {
      "text/plain": [
       "['imagem',\n",
       " 'temos',\n",
       " 'a',\n",
       " 'seguinte',\n",
       " 'classe',\n",
       " 'que',\n",
       " 'representa',\n",
       " 'um',\n",
       " 'usuário',\n",
       " 'no',\n",
       " 'nosso',\n",
       " 'sistema',\n",
       " 'java',\n",
       " 'para',\n",
       " 'salvar',\n",
       " 'um',\n",
       " 'novo',\n",
       " 'usuário',\n",
       " 'várias',\n",
       " 'validações',\n",
       " 'são',\n",
       " 'feitas',\n",
       " 'como',\n",
       " 'por',\n",
       " 'exemplo',\n",
       " 'ver',\n",
       " 'se',\n",
       " 'o',\n",
       " 'nome',\n",
       " 'só',\n",
       " 'contém',\n",
       " 'letras',\n",
       " 'o',\n",
       " 'cpf',\n",
       " 'só',\n",
       " 'números',\n",
       " 'e',\n",
       " 'ver',\n",
       " 'se',\n",
       " 'o',\n",
       " 'usuário',\n",
       " 'possui',\n",
       " 'no',\n",
       " 'mínimo',\n",
       " 'anos',\n",
       " 'veja',\n",
       " 'o',\n",
       " 'método',\n",
       " 'que',\n",
       " 'faz',\n",
       " 'essa',\n",
       " 'validação',\n",
       " 'java',\n",
       " 'suponha',\n",
       " 'agora',\n",
       " 'que',\n",
       " 'eu',\n",
       " 'tenha',\n",
       " 'outra',\n",
       " 'classe',\n",
       " 'a',\n",
       " 'classe',\n",
       " 'produto',\n",
       " 'que',\n",
       " 'contém',\n",
       " 'um',\n",
       " 'atributo',\n",
       " 'nome',\n",
       " 'e',\n",
       " 'eu',\n",
       " 'quero',\n",
       " 'fazer',\n",
       " 'a',\n",
       " 'mesma',\n",
       " 'validação',\n",
       " 'que',\n",
       " 'fiz',\n",
       " 'para',\n",
       " 'o',\n",
       " 'nome',\n",
       " 'do',\n",
       " 'usuário',\n",
       " 'ver',\n",
       " 'se',\n",
       " 'só',\n",
       " 'contém',\n",
       " 'letras',\n",
       " 'e',\n",
       " 'aí',\n",
       " 'vou',\n",
       " 'criar',\n",
       " 'outro',\n",
       " 'método',\n",
       " 'para',\n",
       " 'fazer',\n",
       " 'a',\n",
       " 'mesma',\n",
       " 'validação',\n",
       " 'ou',\n",
       " 'criar',\n",
       " 'uma',\n",
       " 'interface',\n",
       " 'ou',\n",
       " 'uma',\n",
       " 'classe',\n",
       " 'que',\n",
       " 'tanto',\n",
       " 'usuario',\n",
       " 'quanto',\n",
       " 'produto',\n",
       " 'estendem',\n",
       " 'não',\n",
       " 'faz',\n",
       " 'muito',\n",
       " 'sentido',\n",
       " 'né',\n",
       " 'como',\n",
       " 'resolver',\n",
       " 'esse',\n",
       " 'caso',\n",
       " 'sem',\n",
       " 'repetir',\n",
       " 'código',\n",
       " 'anotações',\n",
       " 'no',\n",
       " 'java',\n",
       " 'um',\n",
       " 'novo',\n",
       " 'recurso',\n",
       " 'foi',\n",
       " 'introduzido',\n",
       " 'à',\n",
       " 'linguagem',\n",
       " 'as',\n",
       " 'anotações',\n",
       " 'elas',\n",
       " 'permitem',\n",
       " 'que',\n",
       " 'metadados',\n",
       " 'sejam',\n",
       " 'escritos',\n",
       " 'diretamente',\n",
       " 'no',\n",
       " 'código',\n",
       " 'metadados',\n",
       " 'são',\n",
       " 'por',\n",
       " 'definição',\n",
       " 'dados',\n",
       " 'que',\n",
       " 'fazem',\n",
       " 'referência',\n",
       " 'aos',\n",
       " 'próprios',\n",
       " 'dados',\n",
       " 'para',\n",
       " 'nos',\n",
       " 'ajudar',\n",
       " 'a',\n",
       " 'entender',\n",
       " 'o',\n",
       " 'conceito',\n",
       " 'de',\n",
       " 'metadados',\n",
       " 'vou',\n",
       " 'usar',\n",
       " 'a',\n",
       " 'definição',\n",
       " 'feita',\n",
       " 'pelo',\n",
       " 'autor',\n",
       " 'eduardo',\n",
       " 'guerra',\n",
       " 'no',\n",
       " 'livro',\n",
       " 'componentes',\n",
       " 'reutilizáveis',\n",
       " 'em',\n",
       " 'java',\n",
       " 'com',\n",
       " 'reflexão',\n",
       " 'e',\n",
       " 'anotações',\n",
       " 'contexto',\n",
       " 'da',\n",
       " 'orientação',\n",
       " 'a',\n",
       " 'objetos',\n",
       " 'os',\n",
       " 'metadados',\n",
       " 'são',\n",
       " 'informações',\n",
       " 'sobre',\n",
       " 'do',\n",
       " 'código',\n",
       " 'essas',\n",
       " 'informações',\n",
       " 'podem',\n",
       " 'ser',\n",
       " 'definidas',\n",
       " 'em',\n",
       " 'qualquer',\n",
       " 'meio',\n",
       " 'que',\n",
       " 'o',\n",
       " 'software',\n",
       " 'ou',\n",
       " 'componente',\n",
       " 'as',\n",
       " 'recupere',\n",
       " 'e',\n",
       " 'as',\n",
       " 'utilize',\n",
       " 'para',\n",
       " 'agregar',\n",
       " 'nos',\n",
       " 'elementos',\n",
       " 'do',\n",
       " 'código',\n",
       " 'perceba',\n",
       " 'que',\n",
       " 'por',\n",
       " 'si',\n",
       " 'só',\n",
       " 'anotações',\n",
       " 'não',\n",
       " 'fazem',\n",
       " 'nada',\n",
       " 'elas',\n",
       " 'precisam',\n",
       " 'que',\n",
       " 'a',\n",
       " 'aplicação',\n",
       " 'as',\n",
       " 'recupere',\n",
       " 'e',\n",
       " 'as',\n",
       " 'utilize',\n",
       " 'para',\n",
       " 'que',\n",
       " 'só',\n",
       " 'assim',\n",
       " 'elas',\n",
       " 'consigam',\n",
       " 'nos',\n",
       " 'fornecer',\n",
       " 'algo',\n",
       " 'que',\n",
       " 'possamos',\n",
       " 'usar',\n",
       " 'para',\n",
       " 'realizar',\n",
       " 'alguma',\n",
       " 'tarefa',\n",
       " 'voltando',\n",
       " 'ao',\n",
       " 'nosso',\n",
       " 'problema',\n",
       " 'vamos',\n",
       " 'criar',\n",
       " 'uma',\n",
       " 'anotação',\n",
       " 'para',\n",
       " 'validar',\n",
       " 'a',\n",
       " 'idade',\n",
       " 'mínina',\n",
       " 'do',\n",
       " 'usuário',\n",
       " 'para',\n",
       " 'isso',\n",
       " 'vamos',\n",
       " 'anotar',\n",
       " 'nossa',\n",
       " 'classe',\n",
       " 'java',\n",
       " 'se',\n",
       " 'olharmos',\n",
       " 'nosso',\n",
       " 'código',\n",
       " 'perceberemos',\n",
       " 'que',\n",
       " 'ele',\n",
       " 'não',\n",
       " 'compila',\n",
       " 'pois',\n",
       " 'falta',\n",
       " 'implementarmos',\n",
       " 'a',\n",
       " 'anotação',\n",
       " 'idademinina',\n",
       " 'logo',\n",
       " 'precisamos',\n",
       " 'criar',\n",
       " 'uma',\n",
       " 'nova',\n",
       " 'classe',\n",
       " 'com',\n",
       " 'o',\n",
       " 'nome',\n",
       " 'idademinima',\n",
       " 'java',\n",
       " 'mas',\n",
       " 'pensando',\n",
       " 'bem',\n",
       " 'estamos',\n",
       " 'criando',\n",
       " 'uma',\n",
       " 'classe',\n",
       " 'não',\n",
       " 'estamos',\n",
       " 'portanto',\n",
       " 'a',\n",
       " 'nomenclatura',\n",
       " 'é',\n",
       " 'diferente',\n",
       " 'para',\n",
       " 'uma',\n",
       " 'anotação',\n",
       " 'a',\n",
       " 'forma',\n",
       " 'correta',\n",
       " 'seria',\n",
       " 'java',\n",
       " 'estranho',\n",
       " 'né',\n",
       " 'mas',\n",
       " 'foi',\n",
       " 'o',\n",
       " 'jeito',\n",
       " 'que',\n",
       " 'o',\n",
       " 'pessoal',\n",
       " 'do',\n",
       " 'java',\n",
       " 'fez',\n",
       " 'para',\n",
       " 'falar',\n",
       " 'que',\n",
       " 'esse',\n",
       " 'arquivo',\n",
       " 'se',\n",
       " 'trata',\n",
       " 'de',\n",
       " 'uma',\n",
       " 'anotação',\n",
       " 'agora',\n",
       " 'temos',\n",
       " 'que',\n",
       " 'anotar',\n",
       " 'nossa',\n",
       " 'interface',\n",
       " 'com',\n",
       " 'algumas',\n",
       " 'anotações',\n",
       " 'obrigatórias',\n",
       " 'para',\n",
       " 'que',\n",
       " 'o',\n",
       " 'java',\n",
       " 'entenda',\n",
       " 'onde',\n",
       " 'e',\n",
       " 'quando',\n",
       " 'sua',\n",
       " 'anotação',\n",
       " 'pode',\n",
       " 'ser',\n",
       " 'utilizada',\n",
       " 'sendo',\n",
       " 'elas',\n",
       " 'retention',\n",
       " 'aqui',\n",
       " 'nós',\n",
       " 'falaremos',\n",
       " 'para',\n",
       " 'a',\n",
       " 'nossa',\n",
       " 'aplicação',\n",
       " 'até',\n",
       " 'quando',\n",
       " 'nossa',\n",
       " 'anotação',\n",
       " 'estará',\n",
       " 'disponível',\n",
       " 'target',\n",
       " 'aqui',\n",
       " 'passaremos',\n",
       " 'os',\n",
       " 'elementos',\n",
       " 'que',\n",
       " 'podem',\n",
       " 'ser',\n",
       " 'anotados',\n",
       " 'com',\n",
       " 'essa',\n",
       " 'anotação',\n",
       " 'até',\n",
       " 'onde',\n",
       " 'nossa',\n",
       " 'anotação',\n",
       " 'estará',\n",
       " 'disponível',\n",
       " 'precisamos',\n",
       " 'que',\n",
       " 'ela',\n",
       " 'seja',\n",
       " 'executada',\n",
       " 'quando',\n",
       " 'o',\n",
       " 'usuário',\n",
       " 'enviar',\n",
       " 'os',\n",
       " 'seus',\n",
       " 'dados',\n",
       " 'e',\n",
       " 'isso',\n",
       " 'acontece',\n",
       " 'quando',\n",
       " 'nossa',\n",
       " 'aplicação',\n",
       " 'está',\n",
       " 'rodando',\n",
       " 'logo',\n",
       " 'precisamos',\n",
       " 'dela',\n",
       " 'em',\n",
       " 'tempo',\n",
       " 'de',\n",
       " 'execução',\n",
       " 'java',\n",
       " 'e',\n",
       " 'quem',\n",
       " 'será',\n",
       " 'anotado',\n",
       " 'que',\n",
       " 'elemento',\n",
       " 'faz',\n",
       " 'sentido',\n",
       " 'ser',\n",
       " 'anotado',\n",
       " 'com',\n",
       " 'uma',\n",
       " 'anotação',\n",
       " 'que',\n",
       " 'verifica',\n",
       " 'se',\n",
       " 'o',\n",
       " 'usuário',\n",
       " 'tem',\n",
       " 'idade',\n",
       " 'suficiente',\n",
       " 'um',\n",
       " 'atributo',\n",
       " 'certo',\n",
       " 'logo',\n",
       " 'um',\n",
       " 'java',\n",
       " 'agora',\n",
       " 'que',\n",
       " 'já',\n",
       " 'especificamos',\n",
       " 'o',\n",
       " 'contexto',\n",
       " 'da',\n",
       " 'nossa',\n",
       " 'anotação',\n",
       " 'precisamos',\n",
       " 'falar',\n",
       " 'qual',\n",
       " 'a',\n",
       " 'idade',\n",
       " 'mínima',\n",
       " 'que',\n",
       " 'a',\n",
       " 'nossa',\n",
       " 'anotação',\n",
       " 'deve',\n",
       " 'usar',\n",
       " 'para',\n",
       " 'validar',\n",
       " 'a',\n",
       " 'idade',\n",
       " 'do',\n",
       " 'usuário',\n",
       " 'para',\n",
       " 'isso',\n",
       " 'vamos',\n",
       " 'criar',\n",
       " 'uma',\n",
       " 'propriedade',\n",
       " 'na',\n",
       " 'nossa',\n",
       " 'anotação',\n",
       " 'chamada',\n",
       " 'valor',\n",
       " 'java',\n",
       " 'nossa',\n",
       " 'anotação',\n",
       " 'está']"
      ]
     },
     "execution_count": 55,
     "metadata": {},
     "output_type": "execute_result"
    }
   ],
   "source": [
    "lista_normalizada = normalizacao(lista_palavras)\n",
    "lista_normalizada[:500]"
   ]
  },
  {
   "cell_type": "markdown",
   "metadata": {},
   "source": [
    "### Texto normalizado, todas as palavras que contém apenas letras foram separadas em uma lista, e trasnformada em minúscula."
   ]
  },
  {
   "cell_type": "code",
   "execution_count": 57,
   "metadata": {},
   "outputs": [
    {
     "data": {
      "text/plain": [
       "{0, 1, 2, 3, 4, 5, 6, 7, 8, 9}"
      ]
     },
     "execution_count": 57,
     "metadata": {},
     "output_type": "execute_result"
    }
   ],
   "source": [
    "# A funcção set, retorna os valores da lista sem repetições\n",
    "set([4, 4, 0, 1, 2, 3, 3, 3, 5, 6, 6, 8, 9, 7])"
   ]
  },
  {
   "cell_type": "code",
   "execution_count": 58,
   "metadata": {},
   "outputs": [
    {
     "data": {
      "text/plain": [
       "18465"
      ]
     },
     "execution_count": 58,
     "metadata": {},
     "output_type": "execute_result"
    }
   ],
   "source": [
    "len(set(lista_normalizada))"
   ]
  },
  {
   "cell_type": "markdown",
   "metadata": {},
   "source": [
    "### De um total de 403106 palavras, fora reduzido para 18465 palavras sem reperições e sem caracteres"
   ]
  },
  {
   "cell_type": "code",
   "execution_count": null,
   "metadata": {},
   "outputs": [],
   "source": []
  }
 ],
 "metadata": {
  "kernelspec": {
   "display_name": "Python 3",
   "language": "python",
   "name": "python3"
  },
  "language_info": {
   "codemirror_mode": {
    "name": "ipython",
    "version": 3
   },
   "file_extension": ".py",
   "mimetype": "text/x-python",
   "name": "python",
   "nbconvert_exporter": "python",
   "pygments_lexer": "ipython3",
   "version": "3.8.3"
  }
 },
 "nbformat": 4,
 "nbformat_minor": 4
}
