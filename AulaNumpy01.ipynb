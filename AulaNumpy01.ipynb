{
 "cells": [
  {
   "cell_type": "code",
   "execution_count": 15,
   "metadata": {},
   "outputs": [],
   "source": [
    "import numpy as np # importando numpy com apelido np"
   ]
  },
  {
   "cell_type": "code",
   "execution_count": 16,
   "metadata": {},
   "outputs": [],
   "source": [
    "minha_lista = [1, 2, 3] # lista de 3 números"
   ]
  },
  {
   "cell_type": "code",
   "execution_count": 17,
   "metadata": {},
   "outputs": [
    {
     "data": {
      "text/plain": [
       "array([1, 2, 3])"
      ]
     },
     "execution_count": 17,
     "metadata": {},
     "output_type": "execute_result"
    }
   ],
   "source": [
    "np.array(minha_lista) # array davariável minha_lista"
   ]
  },
  {
   "cell_type": "code",
   "execution_count": 18,
   "metadata": {},
   "outputs": [],
   "source": [
    "minha_matriz = [[1,2,3], [4, 5, 6], [7, 8, 9] ] #lista de listas"
   ]
  },
  {
   "cell_type": "code",
   "execution_count": 19,
   "metadata": {},
   "outputs": [
    {
     "data": {
      "text/plain": [
       "array([[1, 2, 3],\n",
       "       [4, 5, 6],\n",
       "       [7, 8, 9]])"
      ]
     },
     "execution_count": 19,
     "metadata": {},
     "output_type": "execute_result"
    }
   ],
   "source": [
    "np.array(minha_matriz) # Matriz de duas dimensões da variável minha_matriz"
   ]
  },
  {
   "cell_type": "code",
   "execution_count": 20,
   "metadata": {},
   "outputs": [
    {
     "data": {
      "text/plain": [
       "array([0, 1, 2, 3, 4, 5, 6, 7, 8, 9])"
      ]
     },
     "execution_count": 20,
     "metadata": {},
     "output_type": "execute_result"
    }
   ],
   "source": [
    "np.arange(0,10) # array de 0 a 10"
   ]
  },
  {
   "cell_type": "code",
   "execution_count": 21,
   "metadata": {},
   "outputs": [
    {
     "data": {
      "text/plain": [
       "array([0, 2, 4, 6, 8])"
      ]
     },
     "execution_count": 21,
     "metadata": {},
     "output_type": "execute_result"
    }
   ],
   "source": [
    "np.arange(0,10,2)  # array de 0 a 10 com intevalos de 2"
   ]
  },
  {
   "cell_type": "code",
   "execution_count": 22,
   "metadata": {},
   "outputs": [
    {
     "data": {
      "text/plain": [
       "array([0., 0., 0.])"
      ]
     },
     "execution_count": 22,
     "metadata": {},
     "output_type": "execute_result"
    }
   ],
   "source": [
    "np.zeros(3) # array de 3 zeros"
   ]
  },
  {
   "cell_type": "code",
   "execution_count": 23,
   "metadata": {},
   "outputs": [
    {
     "data": {
      "text/plain": [
       "array([[0., 0., 0., 0., 0.],\n",
       "       [0., 0., 0., 0., 0.],\n",
       "       [0., 0., 0., 0., 0.],\n",
       "       [0., 0., 0., 0., 0.],\n",
       "       [0., 0., 0., 0., 0.]])"
      ]
     },
     "execution_count": 23,
     "metadata": {},
     "output_type": "execute_result"
    }
   ],
   "source": [
    "np.zeros((5,5))  # matriz de zeros"
   ]
  },
  {
   "cell_type": "code",
   "execution_count": 25,
   "metadata": {},
   "outputs": [
    {
     "data": {
      "text/plain": [
       "array([[1., 1., 1.],\n",
       "       [1., 1., 1.],\n",
       "       [1., 1., 1.]])"
      ]
     },
     "execution_count": 25,
     "metadata": {},
     "output_type": "execute_result"
    }
   ],
   "source": [
    "np.ones((3,3)) # matriz de uns"
   ]
  },
  {
   "cell_type": "code",
   "execution_count": 27,
   "metadata": {},
   "outputs": [
    {
     "data": {
      "text/plain": [
       "array([[1., 0., 0., 0., 0., 0., 0., 0., 0., 0.],\n",
       "       [0., 1., 0., 0., 0., 0., 0., 0., 0., 0.],\n",
       "       [0., 0., 1., 0., 0., 0., 0., 0., 0., 0.],\n",
       "       [0., 0., 0., 1., 0., 0., 0., 0., 0., 0.],\n",
       "       [0., 0., 0., 0., 1., 0., 0., 0., 0., 0.],\n",
       "       [0., 0., 0., 0., 0., 1., 0., 0., 0., 0.],\n",
       "       [0., 0., 0., 0., 0., 0., 1., 0., 0., 0.],\n",
       "       [0., 0., 0., 0., 0., 0., 0., 1., 0., 0.],\n",
       "       [0., 0., 0., 0., 0., 0., 0., 0., 1., 0.],\n",
       "       [0., 0., 0., 0., 0., 0., 0., 0., 0., 1.]])"
      ]
     },
     "execution_count": 27,
     "metadata": {},
     "output_type": "execute_result"
    }
   ],
   "source": [
    "np.eye(10)  # Matriz de identidade"
   ]
  },
  {
   "cell_type": "code",
   "execution_count": 28,
   "metadata": {},
   "outputs": [
    {
     "data": {
      "text/plain": [
       "array([ 0.,  5., 10.])"
      ]
     },
     "execution_count": 28,
     "metadata": {},
     "output_type": "execute_result"
    }
   ],
   "source": [
    "np.linspace(0,10,3) # linspace mostra a range de número e determina quantos números serão mostrados no ultimo parametro"
   ]
  },
  {
   "cell_type": "code",
   "execution_count": 29,
   "metadata": {},
   "outputs": [
    {
     "data": {
      "text/plain": [
       "array([ 0. ,  2.5,  5. ,  7.5, 10. ])"
      ]
     },
     "execution_count": 29,
     "metadata": {},
     "output_type": "execute_result"
    }
   ],
   "source": [
    "np.linspace(0,10,5) # linspace de 5 números entre 0 e 10"
   ]
  },
  {
   "cell_type": "code",
   "execution_count": 31,
   "metadata": {},
   "outputs": [
    {
     "data": {
      "text/plain": [
       "array([0.60971423, 0.00683039, 0.9352934 , 0.28609514, 0.79165662])"
      ]
     },
     "execution_count": 31,
     "metadata": {},
     "output_type": "execute_result"
    }
   ],
   "source": [
    "np.random.rand(5) # mostra um array de números aleatórios "
   ]
  },
  {
   "cell_type": "code",
   "execution_count": 33,
   "metadata": {},
   "outputs": [
    {
     "data": {
      "text/plain": [
       "array([[[0.08305012, 0.34740856, 0.44664922, 0.26319555, 0.16541557],\n",
       "        [0.77563981, 0.00418783, 0.90858045, 0.94272117, 0.02902001],\n",
       "        [0.1377147 , 0.99456359, 0.45995853, 0.48794775, 0.50129625],\n",
       "        [0.97082533, 0.39434874, 0.91622301, 0.09294274, 0.24193582],\n",
       "        [0.00896361, 0.00968863, 0.67136841, 0.51107449, 0.99616489]],\n",
       "\n",
       "       [[0.65646469, 0.38410045, 0.36800413, 0.99541289, 0.8418149 ],\n",
       "        [0.66464292, 0.57989915, 0.75383526, 0.98804395, 0.41737878],\n",
       "        [0.3691438 , 0.5205654 , 0.1051161 , 0.36138256, 0.0160378 ],\n",
       "        [0.47259547, 0.12721142, 0.80077414, 0.42861128, 0.1644844 ],\n",
       "        [0.59346743, 0.24903157, 0.42188733, 0.34316283, 0.27593331]],\n",
       "\n",
       "       [[0.97055793, 0.18698445, 0.55623469, 0.43353356, 0.93962232],\n",
       "        [0.13070438, 0.00800093, 0.64823075, 0.5239601 , 0.56543975],\n",
       "        [0.86184804, 0.2315463 , 0.65079037, 0.68437811, 0.63733413],\n",
       "        [0.72920751, 0.03890813, 0.72082464, 0.81547468, 0.19416731],\n",
       "        [0.45262211, 0.44310705, 0.95657624, 0.82292856, 0.5684578 ]],\n",
       "\n",
       "       [[0.71069312, 0.521492  , 0.4226112 , 0.24309955, 0.427292  ],\n",
       "        [0.48270148, 0.02011825, 0.88567644, 0.31271697, 0.83156723],\n",
       "        [0.42530862, 0.23578093, 0.9337293 , 0.24157751, 0.12861895],\n",
       "        [0.67368743, 0.21813754, 0.77106775, 0.09838763, 0.1447798 ],\n",
       "        [0.3900627 , 0.73384271, 0.26400217, 0.34474269, 0.22048306]],\n",
       "\n",
       "       [[0.19263413, 0.16753994, 0.01948489, 0.17467887, 0.47087946],\n",
       "        [0.11386024, 0.39993566, 0.59158297, 0.59928588, 0.72185236],\n",
       "        [0.59230077, 0.62053594, 0.02200742, 0.95705547, 0.06325011],\n",
       "        [0.95220014, 0.48669191, 0.99699423, 0.16787823, 0.95931561],\n",
       "        [0.33779493, 0.17123404, 0.2141125 , 0.24947791, 0.49481289]]])"
      ]
     },
     "execution_count": 33,
     "metadata": {},
     "output_type": "execute_result"
    }
   ],
   "source": [
    "np.random.rand(5,5,5) # Matriz de 3 dimensões gerada aleatóriamente"
   ]
  },
  {
   "cell_type": "code",
   "execution_count": 34,
   "metadata": {},
   "outputs": [
    {
     "data": {
      "text/plain": [
       "array([ 0.16282525, -0.47325697, -0.35702371,  1.48705181, -0.57293079])"
      ]
     },
     "execution_count": 34,
     "metadata": {},
     "output_type": "execute_result"
    }
   ],
   "source": [
    "np.random.randn(5) # array de números aleatórios incluindo negativos"
   ]
  },
  {
   "cell_type": "code",
   "execution_count": 39,
   "metadata": {},
   "outputs": [
    {
     "data": {
      "text/plain": [
       "array([ 4, 12, 15, 27, 56, 64, 87, 17, 98, 73])"
      ]
     },
     "execution_count": 39,
     "metadata": {},
     "output_type": "execute_result"
    }
   ],
   "source": [
    "np.random.randint(0,100,10) # array de números inteiros aleatórios de 0 a 100 mostrando apenas 10"
   ]
  },
  {
   "cell_type": "code",
   "execution_count": 41,
   "metadata": {},
   "outputs": [],
   "source": [
    "arr = np.random.rand(25) # vetor de tamnho 25"
   ]
  },
  {
   "cell_type": "code",
   "execution_count": 42,
   "metadata": {},
   "outputs": [
    {
     "data": {
      "text/plain": [
       "array([0.11980877, 0.54531299, 0.85173184, 0.0591669 , 0.45298184,\n",
       "       0.07004294, 0.67170675, 0.85859076, 0.92878548, 0.91507397,\n",
       "       0.8250137 , 0.79426683, 0.22164597, 0.8371758 , 0.37692338,\n",
       "       0.56717153, 0.34628415, 0.49224323, 0.52763825, 0.62704483,\n",
       "       0.01947439, 0.4270683 , 0.35617968, 0.02960976, 0.62135018])"
      ]
     },
     "execution_count": 42,
     "metadata": {},
     "output_type": "execute_result"
    }
   ],
   "source": [
    "arr"
   ]
  },
  {
   "cell_type": "code",
   "execution_count": 45,
   "metadata": {},
   "outputs": [],
   "source": [
    "arr = arr.reshape(5,5) # transforma o vetor em uma matriz 5 por 5"
   ]
  },
  {
   "cell_type": "code",
   "execution_count": 46,
   "metadata": {},
   "outputs": [
    {
     "data": {
      "text/plain": [
       "array([[0.11980877, 0.54531299, 0.85173184, 0.0591669 , 0.45298184],\n",
       "       [0.07004294, 0.67170675, 0.85859076, 0.92878548, 0.91507397],\n",
       "       [0.8250137 , 0.79426683, 0.22164597, 0.8371758 , 0.37692338],\n",
       "       [0.56717153, 0.34628415, 0.49224323, 0.52763825, 0.62704483],\n",
       "       [0.01947439, 0.4270683 , 0.35617968, 0.02960976, 0.62135018]])"
      ]
     },
     "execution_count": 46,
     "metadata": {},
     "output_type": "execute_result"
    }
   ],
   "source": [
    "arr"
   ]
  },
  {
   "cell_type": "code",
   "execution_count": 47,
   "metadata": {},
   "outputs": [
    {
     "data": {
      "text/plain": [
       "(5, 5)"
      ]
     },
     "execution_count": 47,
     "metadata": {},
     "output_type": "execute_result"
    }
   ],
   "source": [
    "arr.shape # mostra o tamanho em linhas e colunas matriz associada ao arr"
   ]
  },
  {
   "cell_type": "code",
   "execution_count": 49,
   "metadata": {},
   "outputs": [
    {
     "data": {
      "text/plain": [
       "0.9287854823670295"
      ]
     },
     "execution_count": 49,
     "metadata": {},
     "output_type": "execute_result"
    }
   ],
   "source": [
    "arr.max() # maior número"
   ]
  },
  {
   "cell_type": "code",
   "execution_count": 50,
   "metadata": {},
   "outputs": [
    {
     "data": {
      "text/plain": [
       "0.019474393196929007"
      ]
     },
     "execution_count": 50,
     "metadata": {},
     "output_type": "execute_result"
    }
   ],
   "source": [
    "arr.min() # menor número"
   ]
  },
  {
   "cell_type": "code",
   "execution_count": 54,
   "metadata": {},
   "outputs": [
    {
     "data": {
      "text/plain": [
       "8"
      ]
     },
     "execution_count": 54,
     "metadata": {},
     "output_type": "execute_result"
    }
   ],
   "source": [
    "arr.argmax() # incide do maior número"
   ]
  },
  {
   "cell_type": "code",
   "execution_count": 55,
   "metadata": {},
   "outputs": [
    {
     "data": {
      "text/plain": [
       "20"
      ]
     },
     "execution_count": 55,
     "metadata": {},
     "output_type": "execute_result"
    }
   ],
   "source": [
    "arr.argmin() # indice do menor número"
   ]
  },
  {
   "cell_type": "code",
   "execution_count": 56,
   "metadata": {},
   "outputs": [
    {
     "data": {
      "text/plain": [
       "0.5016916890242653"
      ]
     },
     "execution_count": 56,
     "metadata": {},
     "output_type": "execute_result"
    }
   ],
   "source": [
    "arr.mean() # média de todos os números somados"
   ]
  },
  {
   "cell_type": "code",
   "execution_count": null,
   "metadata": {},
   "outputs": [],
   "source": []
  }
 ],
 "metadata": {
  "kernelspec": {
   "display_name": "Python 3",
   "language": "python",
   "name": "python3"
  },
  "language_info": {
   "codemirror_mode": {
    "name": "ipython",
    "version": 3
   },
   "file_extension": ".py",
   "mimetype": "text/x-python",
   "name": "python",
   "nbconvert_exporter": "python",
   "pygments_lexer": "ipython3",
   "version": "3.8.3"
  }
 },
 "nbformat": 4,
 "nbformat_minor": 4
}
